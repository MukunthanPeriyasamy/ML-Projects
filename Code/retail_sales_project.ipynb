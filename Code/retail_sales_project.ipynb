{
 "cells": [
  {
   "cell_type": "code",
   "execution_count": 1,
   "metadata": {},
   "outputs": [],
   "source": [
    "import pandas as pd\n",
    "import matplotlib.pyplot as plt\n",
    "import seaborn as sns\n",
    "import numpy as np\n",
    "from sklearn.model_selection import train_test_split\n",
    "from sklearn.preprocessing import StandardScaler\n"
   ]
  },
  {
   "cell_type": "code",
   "execution_count": 2,
   "metadata": {},
   "outputs": [
    {
     "data": {
      "text/html": [
       "<div>\n",
       "<style scoped>\n",
       "    .dataframe tbody tr th:only-of-type {\n",
       "        vertical-align: middle;\n",
       "    }\n",
       "\n",
       "    .dataframe tbody tr th {\n",
       "        vertical-align: top;\n",
       "    }\n",
       "\n",
       "    .dataframe thead th {\n",
       "        text-align: right;\n",
       "    }\n",
       "</style>\n",
       "<table border=\"1\" class=\"dataframe\">\n",
       "  <thead>\n",
       "    <tr style=\"text-align: right;\">\n",
       "      <th></th>\n",
       "      <th>Date</th>\n",
       "      <th>Home Decor</th>\n",
       "      <th>Region</th>\n",
       "      <th>Sales_Amount</th>\n",
       "      <th>Units_Sold</th>\n",
       "      <th>Discount</th>\n",
       "      <th>Marketing_Spend</th>\n",
       "    </tr>\n",
       "  </thead>\n",
       "  <tbody>\n",
       "    <tr>\n",
       "      <th>0</th>\n",
       "      <td>01-01-2023</td>\n",
       "      <td>Electronics</td>\n",
       "      <td>North</td>\n",
       "      <td>497.95</td>\n",
       "      <td>17</td>\n",
       "      <td>0.98</td>\n",
       "      <td>116.07</td>\n",
       "    </tr>\n",
       "    <tr>\n",
       "      <th>1</th>\n",
       "      <td>02-01-2023</td>\n",
       "      <td>Clothing</td>\n",
       "      <td>South</td>\n",
       "      <td>271.31</td>\n",
       "      <td>34</td>\n",
       "      <td>3.28</td>\n",
       "      <td>96.66</td>\n",
       "    </tr>\n",
       "    <tr>\n",
       "      <th>2</th>\n",
       "      <td>03-01-2023</td>\n",
       "      <td>Groceries</td>\n",
       "      <td>East</td>\n",
       "      <td>563.73</td>\n",
       "      <td>26</td>\n",
       "      <td>5.83</td>\n",
       "      <td>51.71</td>\n",
       "    </tr>\n",
       "    <tr>\n",
       "      <th>3</th>\n",
       "      <td>04-01-2023</td>\n",
       "      <td>Home Decor</td>\n",
       "      <td>West</td>\n",
       "      <td>560.06</td>\n",
       "      <td>36</td>\n",
       "      <td>7.74</td>\n",
       "      <td>125.73</td>\n",
       "    </tr>\n",
       "    <tr>\n",
       "      <th>4</th>\n",
       "      <td>05-01-2023</td>\n",
       "      <td>Electronics</td>\n",
       "      <td>North</td>\n",
       "      <td>532.63</td>\n",
       "      <td>16</td>\n",
       "      <td>7.02</td>\n",
       "      <td>153.55</td>\n",
       "    </tr>\n",
       "  </tbody>\n",
       "</table>\n",
       "</div>"
      ],
      "text/plain": [
       "         Date   Home Decor Region  Sales_Amount  Units_Sold  Discount  \\\n",
       "0  01-01-2023  Electronics  North        497.95          17      0.98   \n",
       "1  02-01-2023     Clothing  South        271.31          34      3.28   \n",
       "2  03-01-2023    Groceries   East        563.73          26      5.83   \n",
       "3  04-01-2023   Home Decor   West        560.06          36      7.74   \n",
       "4  05-01-2023  Electronics  North        532.63          16      7.02   \n",
       "\n",
       "   Marketing_Spend  \n",
       "0           116.07  \n",
       "1            96.66  \n",
       "2            51.71  \n",
       "3           125.73  \n",
       "4           153.55  "
      ]
     },
     "execution_count": 2,
     "metadata": {},
     "output_type": "execute_result"
    }
   ],
   "source": [
    "dataset = pd.read_csv('D:/Mukunthan/ML Projects/DATASET/Retail_Sales_Data.csv')\n",
    "\n",
    "df = pd.DataFrame(dataset)\n",
    "df.head()"
   ]
  },
  {
   "cell_type": "code",
   "execution_count": 3,
   "metadata": {},
   "outputs": [
    {
     "data": {
      "text/html": [
       "<div>\n",
       "<style scoped>\n",
       "    .dataframe tbody tr th:only-of-type {\n",
       "        vertical-align: middle;\n",
       "    }\n",
       "\n",
       "    .dataframe tbody tr th {\n",
       "        vertical-align: top;\n",
       "    }\n",
       "\n",
       "    .dataframe thead th {\n",
       "        text-align: right;\n",
       "    }\n",
       "</style>\n",
       "<table border=\"1\" class=\"dataframe\">\n",
       "  <thead>\n",
       "    <tr style=\"text-align: right;\">\n",
       "      <th></th>\n",
       "      <th>Date</th>\n",
       "      <th>Home Decor</th>\n",
       "      <th>Region</th>\n",
       "      <th>Sales_Amount</th>\n",
       "      <th>Units_Sold</th>\n",
       "      <th>Discount</th>\n",
       "      <th>Marketing_Spend</th>\n",
       "    </tr>\n",
       "  </thead>\n",
       "  <tbody>\n",
       "    <tr>\n",
       "      <th>95</th>\n",
       "      <td>06-04-2023</td>\n",
       "      <td>Home Decor</td>\n",
       "      <td>West</td>\n",
       "      <td>629.22</td>\n",
       "      <td>20</td>\n",
       "      <td>4.04</td>\n",
       "      <td>118.30</td>\n",
       "    </tr>\n",
       "    <tr>\n",
       "      <th>96</th>\n",
       "      <td>07-04-2023</td>\n",
       "      <td>Electronics</td>\n",
       "      <td>North</td>\n",
       "      <td>1034.74</td>\n",
       "      <td>20</td>\n",
       "      <td>8.74</td>\n",
       "      <td>133.00</td>\n",
       "    </tr>\n",
       "    <tr>\n",
       "      <th>97</th>\n",
       "      <td>08-04-2023</td>\n",
       "      <td>Clothing</td>\n",
       "      <td>South</td>\n",
       "      <td>536.78</td>\n",
       "      <td>28</td>\n",
       "      <td>5.58</td>\n",
       "      <td>133.79</td>\n",
       "    </tr>\n",
       "    <tr>\n",
       "      <th>98</th>\n",
       "      <td>09-04-2023</td>\n",
       "      <td>Groceries</td>\n",
       "      <td>East</td>\n",
       "      <td>488.79</td>\n",
       "      <td>24</td>\n",
       "      <td>3.70</td>\n",
       "      <td>56.26</td>\n",
       "    </tr>\n",
       "    <tr>\n",
       "      <th>99</th>\n",
       "      <td>10-04-2023</td>\n",
       "      <td>Home Decor</td>\n",
       "      <td>West</td>\n",
       "      <td>759.06</td>\n",
       "      <td>23</td>\n",
       "      <td>5.98</td>\n",
       "      <td>82.34</td>\n",
       "    </tr>\n",
       "  </tbody>\n",
       "</table>\n",
       "</div>"
      ],
      "text/plain": [
       "          Date   Home Decor Region  Sales_Amount  Units_Sold  Discount  \\\n",
       "95  06-04-2023   Home Decor   West        629.22          20      4.04   \n",
       "96  07-04-2023  Electronics  North       1034.74          20      8.74   \n",
       "97  08-04-2023     Clothing  South        536.78          28      5.58   \n",
       "98  09-04-2023    Groceries   East        488.79          24      3.70   \n",
       "99  10-04-2023   Home Decor   West        759.06          23      5.98   \n",
       "\n",
       "    Marketing_Spend  \n",
       "95           118.30  \n",
       "96           133.00  \n",
       "97           133.79  \n",
       "98            56.26  \n",
       "99            82.34  "
      ]
     },
     "execution_count": 3,
     "metadata": {},
     "output_type": "execute_result"
    }
   ],
   "source": [
    "df.tail()"
   ]
  },
  {
   "cell_type": "code",
   "execution_count": 4,
   "metadata": {},
   "outputs": [
    {
     "name": "stdout",
     "output_type": "stream",
     "text": [
      "<class 'pandas.core.frame.DataFrame'>\n",
      "RangeIndex: 100 entries, 0 to 99\n",
      "Data columns (total 7 columns):\n",
      " #   Column           Non-Null Count  Dtype  \n",
      "---  ------           --------------  -----  \n",
      " 0   Date             100 non-null    object \n",
      " 1   Home Decor       100 non-null    object \n",
      " 2   Region           100 non-null    object \n",
      " 3   Sales_Amount     100 non-null    float64\n",
      " 4   Units_Sold       100 non-null    int64  \n",
      " 5   Discount         100 non-null    float64\n",
      " 6   Marketing_Spend  100 non-null    float64\n",
      "dtypes: float64(3), int64(1), object(3)\n",
      "memory usage: 5.6+ KB\n"
     ]
    }
   ],
   "source": [
    "df.info()"
   ]
  },
  {
   "cell_type": "code",
   "execution_count": 5,
   "metadata": {},
   "outputs": [
    {
     "data": {
      "text/plain": [
       "Date               0\n",
       "Home Decor         0\n",
       "Region             0\n",
       "Sales_Amount       0\n",
       "Units_Sold         0\n",
       "Discount           0\n",
       "Marketing_Spend    0\n",
       "dtype: int64"
      ]
     },
     "execution_count": 5,
     "metadata": {},
     "output_type": "execute_result"
    }
   ],
   "source": [
    "df.isnull().sum()"
   ]
  },
  {
   "cell_type": "code",
   "execution_count": 6,
   "metadata": {},
   "outputs": [
    {
     "data": {
      "text/html": [
       "<div>\n",
       "<style scoped>\n",
       "    .dataframe tbody tr th:only-of-type {\n",
       "        vertical-align: middle;\n",
       "    }\n",
       "\n",
       "    .dataframe tbody tr th {\n",
       "        vertical-align: top;\n",
       "    }\n",
       "\n",
       "    .dataframe thead th {\n",
       "        text-align: right;\n",
       "    }\n",
       "</style>\n",
       "<table border=\"1\" class=\"dataframe\">\n",
       "  <thead>\n",
       "    <tr style=\"text-align: right;\">\n",
       "      <th></th>\n",
       "      <th>Sales_Amount</th>\n",
       "      <th>Units_Sold</th>\n",
       "      <th>Discount</th>\n",
       "      <th>Marketing_Spend</th>\n",
       "    </tr>\n",
       "  </thead>\n",
       "  <tbody>\n",
       "    <tr>\n",
       "      <th>count</th>\n",
       "      <td>100.000000</td>\n",
       "      <td>100.000000</td>\n",
       "      <td>100.000000</td>\n",
       "      <td>100.000000</td>\n",
       "    </tr>\n",
       "    <tr>\n",
       "      <th>mean</th>\n",
       "      <td>529.517100</td>\n",
       "      <td>20.830000</td>\n",
       "      <td>5.354500</td>\n",
       "      <td>108.388800</td>\n",
       "    </tr>\n",
       "    <tr>\n",
       "      <th>std</th>\n",
       "      <td>189.927471</td>\n",
       "      <td>9.242037</td>\n",
       "      <td>2.580002</td>\n",
       "      <td>50.940046</td>\n",
       "    </tr>\n",
       "    <tr>\n",
       "      <th>min</th>\n",
       "      <td>44.490000</td>\n",
       "      <td>0.000000</td>\n",
       "      <td>0.190000</td>\n",
       "      <td>3.080000</td>\n",
       "    </tr>\n",
       "    <tr>\n",
       "      <th>25%</th>\n",
       "      <td>398.745000</td>\n",
       "      <td>15.000000</td>\n",
       "      <td>3.445000</td>\n",
       "      <td>74.742500</td>\n",
       "    </tr>\n",
       "    <tr>\n",
       "      <th>50%</th>\n",
       "      <td>527.050000</td>\n",
       "      <td>21.500000</td>\n",
       "      <td>5.455000</td>\n",
       "      <td>108.300000</td>\n",
       "    </tr>\n",
       "    <tr>\n",
       "      <th>75%</th>\n",
       "      <td>650.170000</td>\n",
       "      <td>26.250000</td>\n",
       "      <td>7.557500</td>\n",
       "      <td>138.305000</td>\n",
       "    </tr>\n",
       "    <tr>\n",
       "      <th>max</th>\n",
       "      <td>1034.740000</td>\n",
       "      <td>42.000000</td>\n",
       "      <td>9.880000</td>\n",
       "      <td>247.660000</td>\n",
       "    </tr>\n",
       "  </tbody>\n",
       "</table>\n",
       "</div>"
      ],
      "text/plain": [
       "       Sales_Amount  Units_Sold    Discount  Marketing_Spend\n",
       "count    100.000000  100.000000  100.000000       100.000000\n",
       "mean     529.517100   20.830000    5.354500       108.388800\n",
       "std      189.927471    9.242037    2.580002        50.940046\n",
       "min       44.490000    0.000000    0.190000         3.080000\n",
       "25%      398.745000   15.000000    3.445000        74.742500\n",
       "50%      527.050000   21.500000    5.455000       108.300000\n",
       "75%      650.170000   26.250000    7.557500       138.305000\n",
       "max     1034.740000   42.000000    9.880000       247.660000"
      ]
     },
     "execution_count": 6,
     "metadata": {},
     "output_type": "execute_result"
    }
   ],
   "source": [
    "df.describe()"
   ]
  },
  {
   "cell_type": "code",
   "execution_count": 7,
   "metadata": {},
   "outputs": [
    {
     "data": {
      "image/png": "[encoded data removed]",
      "text/plain": [
       "<Figure size 1200x500 with 4 Axes>"
      ]
     },
     "metadata": {},
     "output_type": "display_data"
    }
   ],
   "source": [
    "## Check for outliers\n",
    "\n",
    "sns.set_theme()\n",
    "\n",
    "plt.figure(figsize=(12,5))\n",
    "plt.subplot(1,4,1)\n",
    "sns.boxplot(df['Sales_Amount'],color=\"blue\")\n",
    "\n",
    "plt.subplot(1,4,2)\n",
    "sns.boxplot(df['Units_Sold'],color=\"salmon\")\n",
    "\n",
    "plt.subplot(1,4,3)\n",
    "sns.boxplot(df['Discount'],color=\"red\")\n",
    "\n",
    "plt.subplot(1,4,4)\n",
    "sns.boxplot(df['Marketing_Spend'],color=\"violet\")\n",
    "\n",
    "plt.tight_layout()"
   ]
  },
  {
   "cell_type": "code",
   "execution_count": 8,
   "metadata": {},
   "outputs": [
    {
     "data": {
      "text/html": [
       "<div>\n",
       "<style scoped>\n",
       "    .dataframe tbody tr th:only-of-type {\n",
       "        vertical-align: middle;\n",
       "    }\n",
       "\n",
       "    .dataframe tbody tr th {\n",
       "        vertical-align: top;\n",
       "    }\n",
       "\n",
       "    .dataframe thead th {\n",
       "        text-align: right;\n",
       "    }\n",
       "</style>\n",
       "<table border=\"1\" class=\"dataframe\">\n",
       "  <thead>\n",
       "    <tr style=\"text-align: right;\">\n",
       "      <th></th>\n",
       "      <th>Date</th>\n",
       "      <th>Home Decor</th>\n",
       "      <th>Region</th>\n",
       "      <th>Sales_Amount</th>\n",
       "      <th>Units_Sold</th>\n",
       "      <th>Discount</th>\n",
       "      <th>Marketing_Spend</th>\n",
       "    </tr>\n",
       "  </thead>\n",
       "  <tbody>\n",
       "    <tr>\n",
       "      <th>0</th>\n",
       "      <td>01-01-2023</td>\n",
       "      <td>Electronics</td>\n",
       "      <td>North</td>\n",
       "      <td>497.95</td>\n",
       "      <td>17</td>\n",
       "      <td>0.98</td>\n",
       "      <td>116.07</td>\n",
       "    </tr>\n",
       "    <tr>\n",
       "      <th>1</th>\n",
       "      <td>02-01-2023</td>\n",
       "      <td>Clothing</td>\n",
       "      <td>South</td>\n",
       "      <td>271.31</td>\n",
       "      <td>34</td>\n",
       "      <td>3.28</td>\n",
       "      <td>96.66</td>\n",
       "    </tr>\n",
       "    <tr>\n",
       "      <th>2</th>\n",
       "      <td>03-01-2023</td>\n",
       "      <td>Groceries</td>\n",
       "      <td>East</td>\n",
       "      <td>563.73</td>\n",
       "      <td>26</td>\n",
       "      <td>5.83</td>\n",
       "      <td>51.71</td>\n",
       "    </tr>\n",
       "    <tr>\n",
       "      <th>3</th>\n",
       "      <td>04-01-2023</td>\n",
       "      <td>Home Decor</td>\n",
       "      <td>West</td>\n",
       "      <td>560.06</td>\n",
       "      <td>36</td>\n",
       "      <td>7.74</td>\n",
       "      <td>125.73</td>\n",
       "    </tr>\n",
       "    <tr>\n",
       "      <th>4</th>\n",
       "      <td>05-01-2023</td>\n",
       "      <td>Electronics</td>\n",
       "      <td>North</td>\n",
       "      <td>532.63</td>\n",
       "      <td>16</td>\n",
       "      <td>7.02</td>\n",
       "      <td>153.55</td>\n",
       "    </tr>\n",
       "  </tbody>\n",
       "</table>\n",
       "</div>"
      ],
      "text/plain": [
       "         Date   Home Decor Region  Sales_Amount  Units_Sold  Discount  \\\n",
       "0  01-01-2023  Electronics  North        497.95          17      0.98   \n",
       "1  02-01-2023     Clothing  South        271.31          34      3.28   \n",
       "2  03-01-2023    Groceries   East        563.73          26      5.83   \n",
       "3  04-01-2023   Home Decor   West        560.06          36      7.74   \n",
       "4  05-01-2023  Electronics  North        532.63          16      7.02   \n",
       "\n",
       "   Marketing_Spend  \n",
       "0           116.07  \n",
       "1            96.66  \n",
       "2            51.71  \n",
       "3           125.73  \n",
       "4           153.55  "
      ]
     },
     "execution_count": 8,
     "metadata": {},
     "output_type": "execute_result"
    }
   ],
   "source": [
    "df.head()"
   ]
  },
  {
   "cell_type": "code",
   "execution_count": 9,
   "metadata": {},
   "outputs": [
    {
     "name": "stdout",
     "output_type": "stream",
     "text": [
      "<class 'pandas.core.frame.DataFrame'>\n",
      "RangeIndex: 100 entries, 0 to 99\n",
      "Data columns (total 7 columns):\n",
      " #   Column           Non-Null Count  Dtype  \n",
      "---  ------           --------------  -----  \n",
      " 0   Date             100 non-null    object \n",
      " 1   Home Decor       100 non-null    object \n",
      " 2   Region           100 non-null    object \n",
      " 3   Sales_Amount     100 non-null    float64\n",
      " 4   Units_Sold       100 non-null    int64  \n",
      " 5   Discount         100 non-null    float64\n",
      " 6   Marketing_Spend  100 non-null    float64\n",
      "dtypes: float64(3), int64(1), object(3)\n",
      "memory usage: 5.6+ KB\n"
     ]
    }
   ],
   "source": [
    "df.info()"
   ]
  },
  {
   "cell_type": "code",
   "execution_count": 10,
   "metadata": {},
   "outputs": [
    {
     "data": {
      "text/html": [
       "<div>\n",
       "<style scoped>\n",
       "    .dataframe tbody tr th:only-of-type {\n",
       "        vertical-align: middle;\n",
       "    }\n",
       "\n",
       "    .dataframe tbody tr th {\n",
       "        vertical-align: top;\n",
       "    }\n",
       "\n",
       "    .dataframe thead th {\n",
       "        text-align: right;\n",
       "    }\n",
       "</style>\n",
       "<table border=\"1\" class=\"dataframe\">\n",
       "  <thead>\n",
       "    <tr style=\"text-align: right;\">\n",
       "      <th></th>\n",
       "      <th>Sales_Amount</th>\n",
       "      <th>Units_Sold</th>\n",
       "      <th>Discount</th>\n",
       "      <th>Marketing_Spend</th>\n",
       "    </tr>\n",
       "  </thead>\n",
       "  <tbody>\n",
       "    <tr>\n",
       "      <th>count</th>\n",
       "      <td>100.000000</td>\n",
       "      <td>100.000000</td>\n",
       "      <td>100.000000</td>\n",
       "      <td>100.000000</td>\n",
       "    </tr>\n",
       "    <tr>\n",
       "      <th>mean</th>\n",
       "      <td>529.517100</td>\n",
       "      <td>20.830000</td>\n",
       "      <td>5.354500</td>\n",
       "      <td>108.388800</td>\n",
       "    </tr>\n",
       "    <tr>\n",
       "      <th>std</th>\n",
       "      <td>189.927471</td>\n",
       "      <td>9.242037</td>\n",
       "      <td>2.580002</td>\n",
       "      <td>50.940046</td>\n",
       "    </tr>\n",
       "    <tr>\n",
       "      <th>min</th>\n",
       "      <td>44.490000</td>\n",
       "      <td>0.000000</td>\n",
       "      <td>0.190000</td>\n",
       "      <td>3.080000</td>\n",
       "    </tr>\n",
       "    <tr>\n",
       "      <th>25%</th>\n",
       "      <td>398.745000</td>\n",
       "      <td>15.000000</td>\n",
       "      <td>3.445000</td>\n",
       "      <td>74.742500</td>\n",
       "    </tr>\n",
       "    <tr>\n",
       "      <th>50%</th>\n",
       "      <td>527.050000</td>\n",
       "      <td>21.500000</td>\n",
       "      <td>5.455000</td>\n",
       "      <td>108.300000</td>\n",
       "    </tr>\n",
       "    <tr>\n",
       "      <th>75%</th>\n",
       "      <td>650.170000</td>\n",
       "      <td>26.250000</td>\n",
       "      <td>7.557500</td>\n",
       "      <td>138.305000</td>\n",
       "    </tr>\n",
       "    <tr>\n",
       "      <th>max</th>\n",
       "      <td>1034.740000</td>\n",
       "      <td>42.000000</td>\n",
       "      <td>9.880000</td>\n",
       "      <td>247.660000</td>\n",
       "    </tr>\n",
       "  </tbody>\n",
       "</table>\n",
       "</div>"
      ],
      "text/plain": [
       "       Sales_Amount  Units_Sold    Discount  Marketing_Spend\n",
       "count    100.000000  100.000000  100.000000       100.000000\n",
       "mean     529.517100   20.830000    5.354500       108.388800\n",
       "std      189.927471    9.242037    2.580002        50.940046\n",
       "min       44.490000    0.000000    0.190000         3.080000\n",
       "25%      398.745000   15.000000    3.445000        74.742500\n",
       "50%      527.050000   21.500000    5.455000       108.300000\n",
       "75%      650.170000   26.250000    7.557500       138.305000\n",
       "max     1034.740000   42.000000    9.880000       247.660000"
      ]
     },
     "execution_count": 10,
     "metadata": {},
     "output_type": "execute_result"
    }
   ],
   "source": [
    "df.describe()"
   ]
  },
  {
   "cell_type": "code",
   "execution_count": 11,
   "metadata": {},
   "outputs": [
    {
     "data": {
      "text/html": [
       "<div>\n",
       "<style scoped>\n",
       "    .dataframe tbody tr th:only-of-type {\n",
       "        vertical-align: middle;\n",
       "    }\n",
       "\n",
       "    .dataframe tbody tr th {\n",
       "        vertical-align: top;\n",
       "    }\n",
       "\n",
       "    .dataframe thead th {\n",
       "        text-align: right;\n",
       "    }\n",
       "</style>\n",
       "<table border=\"1\" class=\"dataframe\">\n",
       "  <thead>\n",
       "    <tr style=\"text-align: right;\">\n",
       "      <th></th>\n",
       "      <th>Date</th>\n",
       "      <th>Home Decor</th>\n",
       "      <th>Region</th>\n",
       "      <th>Sales_Amount</th>\n",
       "      <th>Units_Sold</th>\n",
       "      <th>Discount</th>\n",
       "      <th>Marketing_Spend</th>\n",
       "    </tr>\n",
       "  </thead>\n",
       "  <tbody>\n",
       "    <tr>\n",
       "      <th>0</th>\n",
       "      <td>01-01-2023</td>\n",
       "      <td>Electronics</td>\n",
       "      <td>North</td>\n",
       "      <td>497.95</td>\n",
       "      <td>17</td>\n",
       "      <td>0.98</td>\n",
       "      <td>116.07</td>\n",
       "    </tr>\n",
       "    <tr>\n",
       "      <th>1</th>\n",
       "      <td>02-01-2023</td>\n",
       "      <td>Clothing</td>\n",
       "      <td>South</td>\n",
       "      <td>271.31</td>\n",
       "      <td>34</td>\n",
       "      <td>3.28</td>\n",
       "      <td>96.66</td>\n",
       "    </tr>\n",
       "    <tr>\n",
       "      <th>2</th>\n",
       "      <td>03-01-2023</td>\n",
       "      <td>Groceries</td>\n",
       "      <td>East</td>\n",
       "      <td>563.73</td>\n",
       "      <td>26</td>\n",
       "      <td>5.83</td>\n",
       "      <td>51.71</td>\n",
       "    </tr>\n",
       "    <tr>\n",
       "      <th>3</th>\n",
       "      <td>04-01-2023</td>\n",
       "      <td>Home Decor</td>\n",
       "      <td>West</td>\n",
       "      <td>560.06</td>\n",
       "      <td>36</td>\n",
       "      <td>7.74</td>\n",
       "      <td>125.73</td>\n",
       "    </tr>\n",
       "    <tr>\n",
       "      <th>4</th>\n",
       "      <td>05-01-2023</td>\n",
       "      <td>Electronics</td>\n",
       "      <td>North</td>\n",
       "      <td>532.63</td>\n",
       "      <td>16</td>\n",
       "      <td>7.02</td>\n",
       "      <td>153.55</td>\n",
       "    </tr>\n",
       "  </tbody>\n",
       "</table>\n",
       "</div>"
      ],
      "text/plain": [
       "         Date   Home Decor Region  Sales_Amount  Units_Sold  Discount  \\\n",
       "0  01-01-2023  Electronics  North        497.95          17      0.98   \n",
       "1  02-01-2023     Clothing  South        271.31          34      3.28   \n",
       "2  03-01-2023    Groceries   East        563.73          26      5.83   \n",
       "3  04-01-2023   Home Decor   West        560.06          36      7.74   \n",
       "4  05-01-2023  Electronics  North        532.63          16      7.02   \n",
       "\n",
       "   Marketing_Spend  \n",
       "0           116.07  \n",
       "1            96.66  \n",
       "2            51.71  \n",
       "3           125.73  \n",
       "4           153.55  "
      ]
     },
     "execution_count": 11,
     "metadata": {},
     "output_type": "execute_result"
    }
   ],
   "source": [
    "df.head()"
   ]
  },
  {
   "cell_type": "code",
   "execution_count": 12,
   "metadata": {},
   "outputs": [],
   "source": [
    "df.rename({\"Home Decor\":\"Product_Category\"},axis=1,inplace=True)"
   ]
  },
  {
   "cell_type": "code",
   "execution_count": 13,
   "metadata": {},
   "outputs": [],
   "source": [
    "aggregated_df = df.groupby(\n",
    "    by=['Region','Product_Category'],as_index=False\n",
    ").agg(\n",
    "    total_sales = ('Sales_Amount',\"sum\"),\n",
    "    Average_units_sold = (\"Units_Sold\",\"mean\"),\n",
    ")"
   ]
  },
  {
   "cell_type": "code",
   "execution_count": 14,
   "metadata": {},
   "outputs": [
    {
     "data": {
      "text/html": [
       "<div>\n",
       "<style scoped>\n",
       "    .dataframe tbody tr th:only-of-type {\n",
       "        vertical-align: middle;\n",
       "    }\n",
       "\n",
       "    .dataframe tbody tr th {\n",
       "        vertical-align: top;\n",
       "    }\n",
       "\n",
       "    .dataframe thead th {\n",
       "        text-align: right;\n",
       "    }\n",
       "</style>\n",
       "<table border=\"1\" class=\"dataframe\">\n",
       "  <thead>\n",
       "    <tr style=\"text-align: right;\">\n",
       "      <th></th>\n",
       "      <th>Region</th>\n",
       "      <th>Product_Category</th>\n",
       "      <th>total_sales</th>\n",
       "      <th>Average_units_sold</th>\n",
       "    </tr>\n",
       "  </thead>\n",
       "  <tbody>\n",
       "    <tr>\n",
       "      <th>0</th>\n",
       "      <td>East</td>\n",
       "      <td>Groceries</td>\n",
       "      <td>14895.49</td>\n",
       "      <td>21.60</td>\n",
       "    </tr>\n",
       "    <tr>\n",
       "      <th>1</th>\n",
       "      <td>North</td>\n",
       "      <td>Electronics</td>\n",
       "      <td>13517.29</td>\n",
       "      <td>19.20</td>\n",
       "    </tr>\n",
       "    <tr>\n",
       "      <th>2</th>\n",
       "      <td>South</td>\n",
       "      <td>Clothing</td>\n",
       "      <td>11513.27</td>\n",
       "      <td>19.32</td>\n",
       "    </tr>\n",
       "    <tr>\n",
       "      <th>3</th>\n",
       "      <td>West</td>\n",
       "      <td>Home Decor</td>\n",
       "      <td>13025.66</td>\n",
       "      <td>23.20</td>\n",
       "    </tr>\n",
       "  </tbody>\n",
       "</table>\n",
       "</div>"
      ],
      "text/plain": [
       "  Region Product_Category  total_sales  Average_units_sold\n",
       "0   East        Groceries     14895.49               21.60\n",
       "1  North      Electronics     13517.29               19.20\n",
       "2  South         Clothing     11513.27               19.32\n",
       "3   West       Home Decor     13025.66               23.20"
      ]
     },
     "execution_count": 14,
     "metadata": {},
     "output_type": "execute_result"
    }
   ],
   "source": [
    "aggregated_df"
   ]
  },
  {
   "cell_type": "code",
   "execution_count": 15,
   "metadata": {},
   "outputs": [
    {
     "data": {
      "text/html": [
       "<div>\n",
       "<style scoped>\n",
       "    .dataframe tbody tr th:only-of-type {\n",
       "        vertical-align: middle;\n",
       "    }\n",
       "\n",
       "    .dataframe tbody tr th {\n",
       "        vertical-align: top;\n",
       "    }\n",
       "\n",
       "    .dataframe thead th {\n",
       "        text-align: right;\n",
       "    }\n",
       "</style>\n",
       "<table border=\"1\" class=\"dataframe\">\n",
       "  <thead>\n",
       "    <tr style=\"text-align: right;\">\n",
       "      <th></th>\n",
       "      <th>Date</th>\n",
       "      <th>Product_Category</th>\n",
       "      <th>Region</th>\n",
       "      <th>Sales_Amount</th>\n",
       "      <th>Units_Sold</th>\n",
       "      <th>Discount</th>\n",
       "      <th>Marketing_Spend</th>\n",
       "    </tr>\n",
       "  </thead>\n",
       "  <tbody>\n",
       "    <tr>\n",
       "      <th>0</th>\n",
       "      <td>01-01-2023</td>\n",
       "      <td>Electronics</td>\n",
       "      <td>North</td>\n",
       "      <td>497.95</td>\n",
       "      <td>17</td>\n",
       "      <td>0.98</td>\n",
       "      <td>116.07</td>\n",
       "    </tr>\n",
       "    <tr>\n",
       "      <th>1</th>\n",
       "      <td>02-01-2023</td>\n",
       "      <td>Clothing</td>\n",
       "      <td>South</td>\n",
       "      <td>271.31</td>\n",
       "      <td>34</td>\n",
       "      <td>3.28</td>\n",
       "      <td>96.66</td>\n",
       "    </tr>\n",
       "    <tr>\n",
       "      <th>2</th>\n",
       "      <td>03-01-2023</td>\n",
       "      <td>Groceries</td>\n",
       "      <td>East</td>\n",
       "      <td>563.73</td>\n",
       "      <td>26</td>\n",
       "      <td>5.83</td>\n",
       "      <td>51.71</td>\n",
       "    </tr>\n",
       "    <tr>\n",
       "      <th>3</th>\n",
       "      <td>04-01-2023</td>\n",
       "      <td>Home Decor</td>\n",
       "      <td>West</td>\n",
       "      <td>560.06</td>\n",
       "      <td>36</td>\n",
       "      <td>7.74</td>\n",
       "      <td>125.73</td>\n",
       "    </tr>\n",
       "    <tr>\n",
       "      <th>4</th>\n",
       "      <td>05-01-2023</td>\n",
       "      <td>Electronics</td>\n",
       "      <td>North</td>\n",
       "      <td>532.63</td>\n",
       "      <td>16</td>\n",
       "      <td>7.02</td>\n",
       "      <td>153.55</td>\n",
       "    </tr>\n",
       "    <tr>\n",
       "      <th>...</th>\n",
       "      <td>...</td>\n",
       "      <td>...</td>\n",
       "      <td>...</td>\n",
       "      <td>...</td>\n",
       "      <td>...</td>\n",
       "      <td>...</td>\n",
       "      <td>...</td>\n",
       "    </tr>\n",
       "    <tr>\n",
       "      <th>95</th>\n",
       "      <td>06-04-2023</td>\n",
       "      <td>Home Decor</td>\n",
       "      <td>West</td>\n",
       "      <td>629.22</td>\n",
       "      <td>20</td>\n",
       "      <td>4.04</td>\n",
       "      <td>118.30</td>\n",
       "    </tr>\n",
       "    <tr>\n",
       "      <th>96</th>\n",
       "      <td>07-04-2023</td>\n",
       "      <td>Electronics</td>\n",
       "      <td>North</td>\n",
       "      <td>1034.74</td>\n",
       "      <td>20</td>\n",
       "      <td>8.74</td>\n",
       "      <td>133.00</td>\n",
       "    </tr>\n",
       "    <tr>\n",
       "      <th>97</th>\n",
       "      <td>08-04-2023</td>\n",
       "      <td>Clothing</td>\n",
       "      <td>South</td>\n",
       "      <td>536.78</td>\n",
       "      <td>28</td>\n",
       "      <td>5.58</td>\n",
       "      <td>133.79</td>\n",
       "    </tr>\n",
       "    <tr>\n",
       "      <th>98</th>\n",
       "      <td>09-04-2023</td>\n",
       "      <td>Groceries</td>\n",
       "      <td>East</td>\n",
       "      <td>488.79</td>\n",
       "      <td>24</td>\n",
       "      <td>3.70</td>\n",
       "      <td>56.26</td>\n",
       "    </tr>\n",
       "    <tr>\n",
       "      <th>99</th>\n",
       "      <td>10-04-2023</td>\n",
       "      <td>Home Decor</td>\n",
       "      <td>West</td>\n",
       "      <td>759.06</td>\n",
       "      <td>23</td>\n",
       "      <td>5.98</td>\n",
       "      <td>82.34</td>\n",
       "    </tr>\n",
       "  </tbody>\n",
       "</table>\n",
       "<p>100 rows × 7 columns</p>\n",
       "</div>"
      ],
      "text/plain": [
       "          Date Product_Category Region  Sales_Amount  Units_Sold  Discount  \\\n",
       "0   01-01-2023      Electronics  North        497.95          17      0.98   \n",
       "1   02-01-2023         Clothing  South        271.31          34      3.28   \n",
       "2   03-01-2023        Groceries   East        563.73          26      5.83   \n",
       "3   04-01-2023       Home Decor   West        560.06          36      7.74   \n",
       "4   05-01-2023      Electronics  North        532.63          16      7.02   \n",
       "..         ...              ...    ...           ...         ...       ...   \n",
       "95  06-04-2023       Home Decor   West        629.22          20      4.04   \n",
       "96  07-04-2023      Electronics  North       1034.74          20      8.74   \n",
       "97  08-04-2023         Clothing  South        536.78          28      5.58   \n",
       "98  09-04-2023        Groceries   East        488.79          24      3.70   \n",
       "99  10-04-2023       Home Decor   West        759.06          23      5.98   \n",
       "\n",
       "    Marketing_Spend  \n",
       "0            116.07  \n",
       "1             96.66  \n",
       "2             51.71  \n",
       "3            125.73  \n",
       "4            153.55  \n",
       "..              ...  \n",
       "95           118.30  \n",
       "96           133.00  \n",
       "97           133.79  \n",
       "98            56.26  \n",
       "99            82.34  \n",
       "\n",
       "[100 rows x 7 columns]"
      ]
     },
     "execution_count": 15,
     "metadata": {},
     "output_type": "execute_result"
    }
   ],
   "source": [
    "df"
   ]
  },
  {
   "cell_type": "code",
   "execution_count": 16,
   "metadata": {},
   "outputs": [
    {
     "name": "stdout",
     "output_type": "stream",
     "text": [
      "<class 'pandas.core.frame.DataFrame'>\n",
      "RangeIndex: 100 entries, 0 to 99\n",
      "Data columns (total 7 columns):\n",
      " #   Column            Non-Null Count  Dtype  \n",
      "---  ------            --------------  -----  \n",
      " 0   Date              100 non-null    object \n",
      " 1   Product_Category  100 non-null    object \n",
      " 2   Region            100 non-null    object \n",
      " 3   Sales_Amount      100 non-null    float64\n",
      " 4   Units_Sold        100 non-null    int64  \n",
      " 5   Discount          100 non-null    float64\n",
      " 6   Marketing_Spend   100 non-null    float64\n",
      "dtypes: float64(3), int64(1), object(3)\n",
      "memory usage: 5.6+ KB\n"
     ]
    }
   ],
   "source": [
    "df.info()"
   ]
  },
  {
   "cell_type": "code",
   "execution_count": 17,
   "metadata": {},
   "outputs": [],
   "source": [
    "df['Date'] = pd.to_datetime(df['Date'],format=\"%d-%m-%Y\")"
   ]
  },
  {
   "cell_type": "code",
   "execution_count": 18,
   "metadata": {},
   "outputs": [
    {
     "data": {
      "text/html": [
       "<div>\n",
       "<style scoped>\n",
       "    .dataframe tbody tr th:only-of-type {\n",
       "        vertical-align: middle;\n",
       "    }\n",
       "\n",
       "    .dataframe tbody tr th {\n",
       "        vertical-align: top;\n",
       "    }\n",
       "\n",
       "    .dataframe thead th {\n",
       "        text-align: right;\n",
       "    }\n",
       "</style>\n",
       "<table border=\"1\" class=\"dataframe\">\n",
       "  <thead>\n",
       "    <tr style=\"text-align: right;\">\n",
       "      <th></th>\n",
       "      <th>Date</th>\n",
       "      <th>Product_Category</th>\n",
       "      <th>Region</th>\n",
       "      <th>Sales_Amount</th>\n",
       "      <th>Units_Sold</th>\n",
       "      <th>Discount</th>\n",
       "      <th>Marketing_Spend</th>\n",
       "      <th>Year</th>\n",
       "    </tr>\n",
       "  </thead>\n",
       "  <tbody>\n",
       "    <tr>\n",
       "      <th>0</th>\n",
       "      <td>2023-01-01</td>\n",
       "      <td>Electronics</td>\n",
       "      <td>North</td>\n",
       "      <td>497.95</td>\n",
       "      <td>17</td>\n",
       "      <td>0.98</td>\n",
       "      <td>116.07</td>\n",
       "      <td>2023</td>\n",
       "    </tr>\n",
       "    <tr>\n",
       "      <th>1</th>\n",
       "      <td>2023-01-02</td>\n",
       "      <td>Clothing</td>\n",
       "      <td>South</td>\n",
       "      <td>271.31</td>\n",
       "      <td>34</td>\n",
       "      <td>3.28</td>\n",
       "      <td>96.66</td>\n",
       "      <td>2023</td>\n",
       "    </tr>\n",
       "    <tr>\n",
       "      <th>2</th>\n",
       "      <td>2023-01-03</td>\n",
       "      <td>Groceries</td>\n",
       "      <td>East</td>\n",
       "      <td>563.73</td>\n",
       "      <td>26</td>\n",
       "      <td>5.83</td>\n",
       "      <td>51.71</td>\n",
       "      <td>2023</td>\n",
       "    </tr>\n",
       "    <tr>\n",
       "      <th>3</th>\n",
       "      <td>2023-01-04</td>\n",
       "      <td>Home Decor</td>\n",
       "      <td>West</td>\n",
       "      <td>560.06</td>\n",
       "      <td>36</td>\n",
       "      <td>7.74</td>\n",
       "      <td>125.73</td>\n",
       "      <td>2023</td>\n",
       "    </tr>\n",
       "    <tr>\n",
       "      <th>4</th>\n",
       "      <td>2023-01-05</td>\n",
       "      <td>Electronics</td>\n",
       "      <td>North</td>\n",
       "      <td>532.63</td>\n",
       "      <td>16</td>\n",
       "      <td>7.02</td>\n",
       "      <td>153.55</td>\n",
       "      <td>2023</td>\n",
       "    </tr>\n",
       "  </tbody>\n",
       "</table>\n",
       "</div>"
      ],
      "text/plain": [
       "        Date Product_Category Region  Sales_Amount  Units_Sold  Discount  \\\n",
       "0 2023-01-01      Electronics  North        497.95          17      0.98   \n",
       "1 2023-01-02         Clothing  South        271.31          34      3.28   \n",
       "2 2023-01-03        Groceries   East        563.73          26      5.83   \n",
       "3 2023-01-04       Home Decor   West        560.06          36      7.74   \n",
       "4 2023-01-05      Electronics  North        532.63          16      7.02   \n",
       "\n",
       "   Marketing_Spend  Year  \n",
       "0           116.07  2023  \n",
       "1            96.66  2023  \n",
       "2            51.71  2023  \n",
       "3           125.73  2023  \n",
       "4           153.55  2023  "
      ]
     },
     "execution_count": 18,
     "metadata": {},
     "output_type": "execute_result"
    }
   ],
   "source": [
    "df['Year'] = df['Date'].dt.year\n",
    "df.head()"
   ]
  },
  {
   "cell_type": "code",
   "execution_count": 19,
   "metadata": {},
   "outputs": [
    {
     "data": {
      "text/html": [
       "<div>\n",
       "<style scoped>\n",
       "    .dataframe tbody tr th:only-of-type {\n",
       "        vertical-align: middle;\n",
       "    }\n",
       "\n",
       "    .dataframe tbody tr th {\n",
       "        vertical-align: top;\n",
       "    }\n",
       "\n",
       "    .dataframe thead th {\n",
       "        text-align: right;\n",
       "    }\n",
       "</style>\n",
       "<table border=\"1\" class=\"dataframe\">\n",
       "  <thead>\n",
       "    <tr style=\"text-align: right;\">\n",
       "      <th></th>\n",
       "      <th>Date</th>\n",
       "      <th>Product_Category</th>\n",
       "      <th>Region</th>\n",
       "      <th>Sales_Amount</th>\n",
       "      <th>Units_Sold</th>\n",
       "      <th>Discount</th>\n",
       "      <th>Marketing_Spend</th>\n",
       "      <th>Year</th>\n",
       "      <th>month</th>\n",
       "    </tr>\n",
       "  </thead>\n",
       "  <tbody>\n",
       "    <tr>\n",
       "      <th>0</th>\n",
       "      <td>2023-01-01</td>\n",
       "      <td>Electronics</td>\n",
       "      <td>North</td>\n",
       "      <td>497.95</td>\n",
       "      <td>17</td>\n",
       "      <td>0.98</td>\n",
       "      <td>116.07</td>\n",
       "      <td>2023</td>\n",
       "      <td>1</td>\n",
       "    </tr>\n",
       "    <tr>\n",
       "      <th>1</th>\n",
       "      <td>2023-01-02</td>\n",
       "      <td>Clothing</td>\n",
       "      <td>South</td>\n",
       "      <td>271.31</td>\n",
       "      <td>34</td>\n",
       "      <td>3.28</td>\n",
       "      <td>96.66</td>\n",
       "      <td>2023</td>\n",
       "      <td>1</td>\n",
       "    </tr>\n",
       "    <tr>\n",
       "      <th>2</th>\n",
       "      <td>2023-01-03</td>\n",
       "      <td>Groceries</td>\n",
       "      <td>East</td>\n",
       "      <td>563.73</td>\n",
       "      <td>26</td>\n",
       "      <td>5.83</td>\n",
       "      <td>51.71</td>\n",
       "      <td>2023</td>\n",
       "      <td>1</td>\n",
       "    </tr>\n",
       "    <tr>\n",
       "      <th>3</th>\n",
       "      <td>2023-01-04</td>\n",
       "      <td>Home Decor</td>\n",
       "      <td>West</td>\n",
       "      <td>560.06</td>\n",
       "      <td>36</td>\n",
       "      <td>7.74</td>\n",
       "      <td>125.73</td>\n",
       "      <td>2023</td>\n",
       "      <td>1</td>\n",
       "    </tr>\n",
       "    <tr>\n",
       "      <th>4</th>\n",
       "      <td>2023-01-05</td>\n",
       "      <td>Electronics</td>\n",
       "      <td>North</td>\n",
       "      <td>532.63</td>\n",
       "      <td>16</td>\n",
       "      <td>7.02</td>\n",
       "      <td>153.55</td>\n",
       "      <td>2023</td>\n",
       "      <td>1</td>\n",
       "    </tr>\n",
       "  </tbody>\n",
       "</table>\n",
       "</div>"
      ],
      "text/plain": [
       "        Date Product_Category Region  Sales_Amount  Units_Sold  Discount  \\\n",
       "0 2023-01-01      Electronics  North        497.95          17      0.98   \n",
       "1 2023-01-02         Clothing  South        271.31          34      3.28   \n",
       "2 2023-01-03        Groceries   East        563.73          26      5.83   \n",
       "3 2023-01-04       Home Decor   West        560.06          36      7.74   \n",
       "4 2023-01-05      Electronics  North        532.63          16      7.02   \n",
       "\n",
       "   Marketing_Spend  Year  month  \n",
       "0           116.07  2023      1  \n",
       "1            96.66  2023      1  \n",
       "2            51.71  2023      1  \n",
       "3           125.73  2023      1  \n",
       "4           153.55  2023      1  "
      ]
     },
     "execution_count": 19,
     "metadata": {},
     "output_type": "execute_result"
    }
   ],
   "source": [
    "df['month'] = df['Date'].dt.month\n",
    "df.head()"
   ]
  },
  {
   "cell_type": "code",
   "execution_count": 20,
   "metadata": {},
   "outputs": [
    {
     "data": {
      "text/html": [
       "<div>\n",
       "<style scoped>\n",
       "    .dataframe tbody tr th:only-of-type {\n",
       "        vertical-align: middle;\n",
       "    }\n",
       "\n",
       "    .dataframe tbody tr th {\n",
       "        vertical-align: top;\n",
       "    }\n",
       "\n",
       "    .dataframe thead th {\n",
       "        text-align: right;\n",
       "    }\n",
       "</style>\n",
       "<table border=\"1\" class=\"dataframe\">\n",
       "  <thead>\n",
       "    <tr style=\"text-align: right;\">\n",
       "      <th></th>\n",
       "      <th>Date</th>\n",
       "      <th>Product_Category</th>\n",
       "      <th>Region</th>\n",
       "      <th>Sales_Amount</th>\n",
       "      <th>Units_Sold</th>\n",
       "      <th>Discount</th>\n",
       "      <th>Marketing_Spend</th>\n",
       "      <th>Year</th>\n",
       "      <th>month</th>\n",
       "      <th>day_of_week</th>\n",
       "    </tr>\n",
       "  </thead>\n",
       "  <tbody>\n",
       "    <tr>\n",
       "      <th>0</th>\n",
       "      <td>2023-01-01</td>\n",
       "      <td>Electronics</td>\n",
       "      <td>North</td>\n",
       "      <td>497.95</td>\n",
       "      <td>17</td>\n",
       "      <td>0.98</td>\n",
       "      <td>116.07</td>\n",
       "      <td>2023</td>\n",
       "      <td>1</td>\n",
       "      <td>6</td>\n",
       "    </tr>\n",
       "    <tr>\n",
       "      <th>1</th>\n",
       "      <td>2023-01-02</td>\n",
       "      <td>Clothing</td>\n",
       "      <td>South</td>\n",
       "      <td>271.31</td>\n",
       "      <td>34</td>\n",
       "      <td>3.28</td>\n",
       "      <td>96.66</td>\n",
       "      <td>2023</td>\n",
       "      <td>1</td>\n",
       "      <td>0</td>\n",
       "    </tr>\n",
       "    <tr>\n",
       "      <th>2</th>\n",
       "      <td>2023-01-03</td>\n",
       "      <td>Groceries</td>\n",
       "      <td>East</td>\n",
       "      <td>563.73</td>\n",
       "      <td>26</td>\n",
       "      <td>5.83</td>\n",
       "      <td>51.71</td>\n",
       "      <td>2023</td>\n",
       "      <td>1</td>\n",
       "      <td>1</td>\n",
       "    </tr>\n",
       "    <tr>\n",
       "      <th>3</th>\n",
       "      <td>2023-01-04</td>\n",
       "      <td>Home Decor</td>\n",
       "      <td>West</td>\n",
       "      <td>560.06</td>\n",
       "      <td>36</td>\n",
       "      <td>7.74</td>\n",
       "      <td>125.73</td>\n",
       "      <td>2023</td>\n",
       "      <td>1</td>\n",
       "      <td>2</td>\n",
       "    </tr>\n",
       "    <tr>\n",
       "      <th>4</th>\n",
       "      <td>2023-01-05</td>\n",
       "      <td>Electronics</td>\n",
       "      <td>North</td>\n",
       "      <td>532.63</td>\n",
       "      <td>16</td>\n",
       "      <td>7.02</td>\n",
       "      <td>153.55</td>\n",
       "      <td>2023</td>\n",
       "      <td>1</td>\n",
       "      <td>3</td>\n",
       "    </tr>\n",
       "  </tbody>\n",
       "</table>\n",
       "</div>"
      ],
      "text/plain": [
       "        Date Product_Category Region  Sales_Amount  Units_Sold  Discount  \\\n",
       "0 2023-01-01      Electronics  North        497.95          17      0.98   \n",
       "1 2023-01-02         Clothing  South        271.31          34      3.28   \n",
       "2 2023-01-03        Groceries   East        563.73          26      5.83   \n",
       "3 2023-01-04       Home Decor   West        560.06          36      7.74   \n",
       "4 2023-01-05      Electronics  North        532.63          16      7.02   \n",
       "\n",
       "   Marketing_Spend  Year  month  day_of_week  \n",
       "0           116.07  2023      1            6  \n",
       "1            96.66  2023      1            0  \n",
       "2            51.71  2023      1            1  \n",
       "3           125.73  2023      1            2  \n",
       "4           153.55  2023      1            3  "
      ]
     },
     "execution_count": 20,
     "metadata": {},
     "output_type": "execute_result"
    }
   ],
   "source": [
    "df['day_of_week'] = df['Date'].dt.day_of_week\n",
    "df.head()"
   ]
  },
  {
   "cell_type": "code",
   "execution_count": 21,
   "metadata": {},
   "outputs": [
    {
     "data": {
      "text/html": [
       "<div>\n",
       "<style scoped>\n",
       "    .dataframe tbody tr th:only-of-type {\n",
       "        vertical-align: middle;\n",
       "    }\n",
       "\n",
       "    .dataframe tbody tr th {\n",
       "        vertical-align: top;\n",
       "    }\n",
       "\n",
       "    .dataframe thead th {\n",
       "        text-align: right;\n",
       "    }\n",
       "</style>\n",
       "<table border=\"1\" class=\"dataframe\">\n",
       "  <thead>\n",
       "    <tr style=\"text-align: right;\">\n",
       "      <th></th>\n",
       "      <th>Date</th>\n",
       "      <th>Product_Category</th>\n",
       "      <th>Region</th>\n",
       "      <th>Sales_Amount</th>\n",
       "      <th>Units_Sold</th>\n",
       "      <th>Discount</th>\n",
       "      <th>Marketing_Spend</th>\n",
       "      <th>Year</th>\n",
       "      <th>month</th>\n",
       "      <th>day_of_week</th>\n",
       "      <th>Price_per_Unit</th>\n",
       "    </tr>\n",
       "  </thead>\n",
       "  <tbody>\n",
       "    <tr>\n",
       "      <th>0</th>\n",
       "      <td>2023-01-01</td>\n",
       "      <td>Electronics</td>\n",
       "      <td>North</td>\n",
       "      <td>497.95</td>\n",
       "      <td>17</td>\n",
       "      <td>0.98</td>\n",
       "      <td>116.07</td>\n",
       "      <td>2023</td>\n",
       "      <td>1</td>\n",
       "      <td>6</td>\n",
       "      <td>29.291176</td>\n",
       "    </tr>\n",
       "    <tr>\n",
       "      <th>1</th>\n",
       "      <td>2023-01-02</td>\n",
       "      <td>Clothing</td>\n",
       "      <td>South</td>\n",
       "      <td>271.31</td>\n",
       "      <td>34</td>\n",
       "      <td>3.28</td>\n",
       "      <td>96.66</td>\n",
       "      <td>2023</td>\n",
       "      <td>1</td>\n",
       "      <td>0</td>\n",
       "      <td>7.979706</td>\n",
       "    </tr>\n",
       "    <tr>\n",
       "      <th>2</th>\n",
       "      <td>2023-01-03</td>\n",
       "      <td>Groceries</td>\n",
       "      <td>East</td>\n",
       "      <td>563.73</td>\n",
       "      <td>26</td>\n",
       "      <td>5.83</td>\n",
       "      <td>51.71</td>\n",
       "      <td>2023</td>\n",
       "      <td>1</td>\n",
       "      <td>1</td>\n",
       "      <td>21.681923</td>\n",
       "    </tr>\n",
       "    <tr>\n",
       "      <th>3</th>\n",
       "      <td>2023-01-04</td>\n",
       "      <td>Home Decor</td>\n",
       "      <td>West</td>\n",
       "      <td>560.06</td>\n",
       "      <td>36</td>\n",
       "      <td>7.74</td>\n",
       "      <td>125.73</td>\n",
       "      <td>2023</td>\n",
       "      <td>1</td>\n",
       "      <td>2</td>\n",
       "      <td>15.557222</td>\n",
       "    </tr>\n",
       "    <tr>\n",
       "      <th>4</th>\n",
       "      <td>2023-01-05</td>\n",
       "      <td>Electronics</td>\n",
       "      <td>North</td>\n",
       "      <td>532.63</td>\n",
       "      <td>16</td>\n",
       "      <td>7.02</td>\n",
       "      <td>153.55</td>\n",
       "      <td>2023</td>\n",
       "      <td>1</td>\n",
       "      <td>3</td>\n",
       "      <td>33.289375</td>\n",
       "    </tr>\n",
       "  </tbody>\n",
       "</table>\n",
       "</div>"
      ],
      "text/plain": [
       "        Date Product_Category Region  Sales_Amount  Units_Sold  Discount  \\\n",
       "0 2023-01-01      Electronics  North        497.95          17      0.98   \n",
       "1 2023-01-02         Clothing  South        271.31          34      3.28   \n",
       "2 2023-01-03        Groceries   East        563.73          26      5.83   \n",
       "3 2023-01-04       Home Decor   West        560.06          36      7.74   \n",
       "4 2023-01-05      Electronics  North        532.63          16      7.02   \n",
       "\n",
       "   Marketing_Spend  Year  month  day_of_week  Price_per_Unit  \n",
       "0           116.07  2023      1            6       29.291176  \n",
       "1            96.66  2023      1            0        7.979706  \n",
       "2            51.71  2023      1            1       21.681923  \n",
       "3           125.73  2023      1            2       15.557222  \n",
       "4           153.55  2023      1            3       33.289375  "
      ]
     },
     "execution_count": 21,
     "metadata": {},
     "output_type": "execute_result"
    }
   ],
   "source": [
    "df['Price_per_Unit'] = df['Sales_Amount'] / df['Units_Sold']\n",
    "df.head()"
   ]
  },
  {
   "cell_type": "code",
   "execution_count": 22,
   "metadata": {},
   "outputs": [
    {
     "data": {
      "text/html": [
       "<div>\n",
       "<style scoped>\n",
       "    .dataframe tbody tr th:only-of-type {\n",
       "        vertical-align: middle;\n",
       "    }\n",
       "\n",
       "    .dataframe tbody tr th {\n",
       "        vertical-align: top;\n",
       "    }\n",
       "\n",
       "    .dataframe thead th {\n",
       "        text-align: right;\n",
       "    }\n",
       "</style>\n",
       "<table border=\"1\" class=\"dataframe\">\n",
       "  <thead>\n",
       "    <tr style=\"text-align: right;\">\n",
       "      <th></th>\n",
       "      <th>Date</th>\n",
       "      <th>Product_Category</th>\n",
       "      <th>Region</th>\n",
       "      <th>Sales_Amount</th>\n",
       "      <th>Units_Sold</th>\n",
       "      <th>Discount</th>\n",
       "      <th>Marketing_Spend</th>\n",
       "      <th>Year</th>\n",
       "      <th>month</th>\n",
       "      <th>day_of_week</th>\n",
       "      <th>Price_per_Unit</th>\n",
       "      <th>Discount_Percentage</th>\n",
       "    </tr>\n",
       "  </thead>\n",
       "  <tbody>\n",
       "    <tr>\n",
       "      <th>0</th>\n",
       "      <td>2023-01-01</td>\n",
       "      <td>Electronics</td>\n",
       "      <td>North</td>\n",
       "      <td>497.95</td>\n",
       "      <td>17</td>\n",
       "      <td>0.98</td>\n",
       "      <td>116.07</td>\n",
       "      <td>2023</td>\n",
       "      <td>1</td>\n",
       "      <td>6</td>\n",
       "      <td>29.291176</td>\n",
       "      <td>0.196807</td>\n",
       "    </tr>\n",
       "    <tr>\n",
       "      <th>1</th>\n",
       "      <td>2023-01-02</td>\n",
       "      <td>Clothing</td>\n",
       "      <td>South</td>\n",
       "      <td>271.31</td>\n",
       "      <td>34</td>\n",
       "      <td>3.28</td>\n",
       "      <td>96.66</td>\n",
       "      <td>2023</td>\n",
       "      <td>1</td>\n",
       "      <td>0</td>\n",
       "      <td>7.979706</td>\n",
       "      <td>1.208949</td>\n",
       "    </tr>\n",
       "    <tr>\n",
       "      <th>2</th>\n",
       "      <td>2023-01-03</td>\n",
       "      <td>Groceries</td>\n",
       "      <td>East</td>\n",
       "      <td>563.73</td>\n",
       "      <td>26</td>\n",
       "      <td>5.83</td>\n",
       "      <td>51.71</td>\n",
       "      <td>2023</td>\n",
       "      <td>1</td>\n",
       "      <td>1</td>\n",
       "      <td>21.681923</td>\n",
       "      <td>1.034183</td>\n",
       "    </tr>\n",
       "    <tr>\n",
       "      <th>3</th>\n",
       "      <td>2023-01-04</td>\n",
       "      <td>Home Decor</td>\n",
       "      <td>West</td>\n",
       "      <td>560.06</td>\n",
       "      <td>36</td>\n",
       "      <td>7.74</td>\n",
       "      <td>125.73</td>\n",
       "      <td>2023</td>\n",
       "      <td>1</td>\n",
       "      <td>2</td>\n",
       "      <td>15.557222</td>\n",
       "      <td>1.381995</td>\n",
       "    </tr>\n",
       "    <tr>\n",
       "      <th>4</th>\n",
       "      <td>2023-01-05</td>\n",
       "      <td>Electronics</td>\n",
       "      <td>North</td>\n",
       "      <td>532.63</td>\n",
       "      <td>16</td>\n",
       "      <td>7.02</td>\n",
       "      <td>153.55</td>\n",
       "      <td>2023</td>\n",
       "      <td>1</td>\n",
       "      <td>3</td>\n",
       "      <td>33.289375</td>\n",
       "      <td>1.317988</td>\n",
       "    </tr>\n",
       "  </tbody>\n",
       "</table>\n",
       "</div>"
      ],
      "text/plain": [
       "        Date Product_Category Region  Sales_Amount  Units_Sold  Discount  \\\n",
       "0 2023-01-01      Electronics  North        497.95          17      0.98   \n",
       "1 2023-01-02         Clothing  South        271.31          34      3.28   \n",
       "2 2023-01-03        Groceries   East        563.73          26      5.83   \n",
       "3 2023-01-04       Home Decor   West        560.06          36      7.74   \n",
       "4 2023-01-05      Electronics  North        532.63          16      7.02   \n",
       "\n",
       "   Marketing_Spend  Year  month  day_of_week  Price_per_Unit  \\\n",
       "0           116.07  2023      1            6       29.291176   \n",
       "1            96.66  2023      1            0        7.979706   \n",
       "2            51.71  2023      1            1       21.681923   \n",
       "3           125.73  2023      1            2       15.557222   \n",
       "4           153.55  2023      1            3       33.289375   \n",
       "\n",
       "   Discount_Percentage  \n",
       "0             0.196807  \n",
       "1             1.208949  \n",
       "2             1.034183  \n",
       "3             1.381995  \n",
       "4             1.317988  "
      ]
     },
     "execution_count": 22,
     "metadata": {},
     "output_type": "execute_result"
    }
   ],
   "source": [
    "df['Discount_Percentage'] = (df['Discount'] / df['Sales_Amount']) * 100\n",
    "df.head()"
   ]
  },
  {
   "cell_type": "code",
   "execution_count": 23,
   "metadata": {},
   "outputs": [
    {
     "data": {
      "text/plain": [
       "array(['Electronics', 'Clothing', 'Groceries', 'Home Decor'], dtype=object)"
      ]
     },
     "execution_count": 23,
     "metadata": {},
     "output_type": "execute_result"
    }
   ],
   "source": [
    "df['Product_Category'].unique()"
   ]
  },
  {
   "cell_type": "code",
   "execution_count": 24,
   "metadata": {},
   "outputs": [
    {
     "data": {
      "text/html": [
       "<div>\n",
       "<style scoped>\n",
       "    .dataframe tbody tr th:only-of-type {\n",
       "        vertical-align: middle;\n",
       "    }\n",
       "\n",
       "    .dataframe tbody tr th {\n",
       "        vertical-align: top;\n",
       "    }\n",
       "\n",
       "    .dataframe thead th {\n",
       "        text-align: right;\n",
       "    }\n",
       "</style>\n",
       "<table border=\"1\" class=\"dataframe\">\n",
       "  <thead>\n",
       "    <tr style=\"text-align: right;\">\n",
       "      <th></th>\n",
       "      <th>Product_Category</th>\n",
       "      <th>Region</th>\n",
       "      <th>max_Sales_Amount</th>\n",
       "    </tr>\n",
       "  </thead>\n",
       "  <tbody>\n",
       "    <tr>\n",
       "      <th>0</th>\n",
       "      <td>Clothing</td>\n",
       "      <td>South</td>\n",
       "      <td>857.71</td>\n",
       "    </tr>\n",
       "    <tr>\n",
       "      <th>1</th>\n",
       "      <td>Electronics</td>\n",
       "      <td>North</td>\n",
       "      <td>1034.74</td>\n",
       "    </tr>\n",
       "    <tr>\n",
       "      <th>2</th>\n",
       "      <td>Groceries</td>\n",
       "      <td>East</td>\n",
       "      <td>931.20</td>\n",
       "    </tr>\n",
       "    <tr>\n",
       "      <th>3</th>\n",
       "      <td>Home Decor</td>\n",
       "      <td>West</td>\n",
       "      <td>876.01</td>\n",
       "    </tr>\n",
       "  </tbody>\n",
       "</table>\n",
       "</div>"
      ],
      "text/plain": [
       "  Product_Category Region  max_Sales_Amount\n",
       "0         Clothing  South            857.71\n",
       "1      Electronics  North           1034.74\n",
       "2        Groceries   East            931.20\n",
       "3       Home Decor   West            876.01"
      ]
     },
     "execution_count": 24,
     "metadata": {},
     "output_type": "execute_result"
    }
   ],
   "source": [
    "## Finding the Maximum SalesAmount for each product\n",
    "\n",
    "max_sales_amount_df = df.groupby(\n",
    "    by=['Product_Category','Region'],as_index=False\n",
    ").agg(\n",
    "    max_Sales_Amount = ('Sales_Amount',\"max\")\n",
    ")\n",
    "\n",
    "max_sales_amount_df"
   ]
  },
  {
   "cell_type": "code",
   "execution_count": 25,
   "metadata": {},
   "outputs": [
    {
     "data": {
      "text/plain": [
       "array([ 857.71, 1034.74,  931.2 ,  876.01])"
      ]
     },
     "execution_count": 25,
     "metadata": {},
     "output_type": "execute_result"
    }
   ],
   "source": [
    "max_sales_amount_df['max_Sales_Amount'].values"
   ]
  },
  {
   "cell_type": "code",
   "execution_count": 26,
   "metadata": {},
   "outputs": [
    {
     "data": {
      "image/png": "[encoded data removed]",
      "text/plain": [
       "<Figure size 640x480 with 1 Axes>"
      ]
     },
     "metadata": {},
     "output_type": "display_data"
    }
   ],
   "source": [
    "plot = sns.barplot(data=max_sales_amount_df,x='Product_Category', y='max_Sales_Amount')\n",
    "\n",
    "plot.bar_label(plot.containers[0])\n",
    "plt.show()"
   ]
  },
  {
   "cell_type": "code",
   "execution_count": 27,
   "metadata": {},
   "outputs": [
    {
     "data": {
      "text/html": [
       "<div>\n",
       "<style scoped>\n",
       "    .dataframe tbody tr th:only-of-type {\n",
       "        vertical-align: middle;\n",
       "    }\n",
       "\n",
       "    .dataframe tbody tr th {\n",
       "        vertical-align: top;\n",
       "    }\n",
       "\n",
       "    .dataframe thead th {\n",
       "        text-align: right;\n",
       "    }\n",
       "</style>\n",
       "<table border=\"1\" class=\"dataframe\">\n",
       "  <thead>\n",
       "    <tr style=\"text-align: right;\">\n",
       "      <th></th>\n",
       "      <th>Region</th>\n",
       "      <th>Units_sold</th>\n",
       "    </tr>\n",
       "  </thead>\n",
       "  <tbody>\n",
       "    <tr>\n",
       "      <th>0</th>\n",
       "      <td>East</td>\n",
       "      <td>540</td>\n",
       "    </tr>\n",
       "    <tr>\n",
       "      <th>1</th>\n",
       "      <td>North</td>\n",
       "      <td>480</td>\n",
       "    </tr>\n",
       "    <tr>\n",
       "      <th>2</th>\n",
       "      <td>South</td>\n",
       "      <td>483</td>\n",
       "    </tr>\n",
       "    <tr>\n",
       "      <th>3</th>\n",
       "      <td>West</td>\n",
       "      <td>580</td>\n",
       "    </tr>\n",
       "  </tbody>\n",
       "</table>\n",
       "</div>"
      ],
      "text/plain": [
       "  Region  Units_sold\n",
       "0   East         540\n",
       "1  North         480\n",
       "2  South         483\n",
       "3   West         580"
      ]
     },
     "execution_count": 27,
     "metadata": {},
     "output_type": "execute_result"
    }
   ],
   "source": [
    "regional_sales_camparison_df = df.groupby(\n",
    "    by='Region',as_index=False\n",
    ").agg(\n",
    "    Units_sold = ('Units_Sold',\"sum\")\n",
    ")\n",
    "\n",
    "regional_sales_camparison_df"
   ]
  },
  {
   "cell_type": "code",
   "execution_count": 28,
   "metadata": {},
   "outputs": [
    {
     "data": {
      "image/png": "[encoded data removed]",
      "text/plain": [
       "<Figure size 640x480 with 1 Axes>"
      ]
     },
     "metadata": {},
     "output_type": "display_data"
    }
   ],
   "source": [
    "## Regional Sales Comparison\n",
    "\n",
    "plt.pie(regional_sales_camparison_df['Units_sold'],autopct=\"%1.1f%%\",labels=['East','North','South','West'])\n",
    "plt.show()"
   ]
  },
  {
   "cell_type": "code",
   "execution_count": 29,
   "metadata": {},
   "outputs": [
    {
     "data": {
      "text/html": [
       "<div>\n",
       "<style scoped>\n",
       "    .dataframe tbody tr th:only-of-type {\n",
       "        vertical-align: middle;\n",
       "    }\n",
       "\n",
       "    .dataframe tbody tr th {\n",
       "        vertical-align: top;\n",
       "    }\n",
       "\n",
       "    .dataframe thead th {\n",
       "        text-align: right;\n",
       "    }\n",
       "</style>\n",
       "<table border=\"1\" class=\"dataframe\">\n",
       "  <thead>\n",
       "    <tr style=\"text-align: right;\">\n",
       "      <th></th>\n",
       "      <th>month</th>\n",
       "      <th>monthly_sales</th>\n",
       "    </tr>\n",
       "  </thead>\n",
       "  <tbody>\n",
       "    <tr>\n",
       "      <th>0</th>\n",
       "      <td>1</td>\n",
       "      <td>15532.29</td>\n",
       "    </tr>\n",
       "    <tr>\n",
       "      <th>1</th>\n",
       "      <td>2</td>\n",
       "      <td>15331.78</td>\n",
       "    </tr>\n",
       "    <tr>\n",
       "      <th>2</th>\n",
       "      <td>3</td>\n",
       "      <td>15884.53</td>\n",
       "    </tr>\n",
       "    <tr>\n",
       "      <th>3</th>\n",
       "      <td>4</td>\n",
       "      <td>6203.11</td>\n",
       "    </tr>\n",
       "  </tbody>\n",
       "</table>\n",
       "</div>"
      ],
      "text/plain": [
       "   month  monthly_sales\n",
       "0      1       15532.29\n",
       "1      2       15331.78\n",
       "2      3       15884.53\n",
       "3      4        6203.11"
      ]
     },
     "execution_count": 29,
     "metadata": {},
     "output_type": "execute_result"
    }
   ],
   "source": [
    "monthly_trend_df = df.groupby(\n",
    "    by='month',as_index=False\n",
    ").agg(\n",
    "    monthly_sales = ('Sales_Amount',\"sum\")\n",
    ")\n",
    "\n",
    "monthly_trend_df"
   ]
  },
  {
   "cell_type": "code",
   "execution_count": 30,
   "metadata": {},
   "outputs": [
    {
     "data": {
      "image/png": "[encoded data removed]",
      "text/plain": [
       "<Figure size 640x480 with 1 Axes>"
      ]
     },
     "metadata": {},
     "output_type": "display_data"
    }
   ],
   "source": [
    "## Monthly Trend\n",
    "\n",
    "sns.lineplot(data=monthly_trend_df,x='month',y='monthly_sales')\n",
    "plt.show()"
   ]
  },
  {
   "cell_type": "code",
   "execution_count": 31,
   "metadata": {},
   "outputs": [
    {
     "data": {
      "text/html": [
       "<div>\n",
       "<style scoped>\n",
       "    .dataframe tbody tr th:only-of-type {\n",
       "        vertical-align: middle;\n",
       "    }\n",
       "\n",
       "    .dataframe tbody tr th {\n",
       "        vertical-align: top;\n",
       "    }\n",
       "\n",
       "    .dataframe thead th {\n",
       "        text-align: right;\n",
       "    }\n",
       "</style>\n",
       "<table border=\"1\" class=\"dataframe\">\n",
       "  <thead>\n",
       "    <tr style=\"text-align: right;\">\n",
       "      <th></th>\n",
       "      <th>Date</th>\n",
       "      <th>Product_Category</th>\n",
       "      <th>Region</th>\n",
       "      <th>Sales_Amount</th>\n",
       "      <th>Units_Sold</th>\n",
       "      <th>Discount</th>\n",
       "      <th>Marketing_Spend</th>\n",
       "      <th>Year</th>\n",
       "      <th>month</th>\n",
       "      <th>day_of_week</th>\n",
       "      <th>Price_per_Unit</th>\n",
       "      <th>Discount_Percentage</th>\n",
       "    </tr>\n",
       "  </thead>\n",
       "  <tbody>\n",
       "    <tr>\n",
       "      <th>0</th>\n",
       "      <td>2023-01-01</td>\n",
       "      <td>Electronics</td>\n",
       "      <td>North</td>\n",
       "      <td>497.95</td>\n",
       "      <td>17</td>\n",
       "      <td>0.98</td>\n",
       "      <td>116.07</td>\n",
       "      <td>2023</td>\n",
       "      <td>1</td>\n",
       "      <td>6</td>\n",
       "      <td>29.291176</td>\n",
       "      <td>0.196807</td>\n",
       "    </tr>\n",
       "    <tr>\n",
       "      <th>1</th>\n",
       "      <td>2023-01-02</td>\n",
       "      <td>Clothing</td>\n",
       "      <td>South</td>\n",
       "      <td>271.31</td>\n",
       "      <td>34</td>\n",
       "      <td>3.28</td>\n",
       "      <td>96.66</td>\n",
       "      <td>2023</td>\n",
       "      <td>1</td>\n",
       "      <td>0</td>\n",
       "      <td>7.979706</td>\n",
       "      <td>1.208949</td>\n",
       "    </tr>\n",
       "    <tr>\n",
       "      <th>2</th>\n",
       "      <td>2023-01-03</td>\n",
       "      <td>Groceries</td>\n",
       "      <td>East</td>\n",
       "      <td>563.73</td>\n",
       "      <td>26</td>\n",
       "      <td>5.83</td>\n",
       "      <td>51.71</td>\n",
       "      <td>2023</td>\n",
       "      <td>1</td>\n",
       "      <td>1</td>\n",
       "      <td>21.681923</td>\n",
       "      <td>1.034183</td>\n",
       "    </tr>\n",
       "    <tr>\n",
       "      <th>3</th>\n",
       "      <td>2023-01-04</td>\n",
       "      <td>Home Decor</td>\n",
       "      <td>West</td>\n",
       "      <td>560.06</td>\n",
       "      <td>36</td>\n",
       "      <td>7.74</td>\n",
       "      <td>125.73</td>\n",
       "      <td>2023</td>\n",
       "      <td>1</td>\n",
       "      <td>2</td>\n",
       "      <td>15.557222</td>\n",
       "      <td>1.381995</td>\n",
       "    </tr>\n",
       "    <tr>\n",
       "      <th>4</th>\n",
       "      <td>2023-01-05</td>\n",
       "      <td>Electronics</td>\n",
       "      <td>North</td>\n",
       "      <td>532.63</td>\n",
       "      <td>16</td>\n",
       "      <td>7.02</td>\n",
       "      <td>153.55</td>\n",
       "      <td>2023</td>\n",
       "      <td>1</td>\n",
       "      <td>3</td>\n",
       "      <td>33.289375</td>\n",
       "      <td>1.317988</td>\n",
       "    </tr>\n",
       "  </tbody>\n",
       "</table>\n",
       "</div>"
      ],
      "text/plain": [
       "        Date Product_Category Region  Sales_Amount  Units_Sold  Discount  \\\n",
       "0 2023-01-01      Electronics  North        497.95          17      0.98   \n",
       "1 2023-01-02         Clothing  South        271.31          34      3.28   \n",
       "2 2023-01-03        Groceries   East        563.73          26      5.83   \n",
       "3 2023-01-04       Home Decor   West        560.06          36      7.74   \n",
       "4 2023-01-05      Electronics  North        532.63          16      7.02   \n",
       "\n",
       "   Marketing_Spend  Year  month  day_of_week  Price_per_Unit  \\\n",
       "0           116.07  2023      1            6       29.291176   \n",
       "1            96.66  2023      1            0        7.979706   \n",
       "2            51.71  2023      1            1       21.681923   \n",
       "3           125.73  2023      1            2       15.557222   \n",
       "4           153.55  2023      1            3       33.289375   \n",
       "\n",
       "   Discount_Percentage  \n",
       "0             0.196807  \n",
       "1             1.208949  \n",
       "2             1.034183  \n",
       "3             1.381995  \n",
       "4             1.317988  "
      ]
     },
     "execution_count": 31,
     "metadata": {},
     "output_type": "execute_result"
    }
   ],
   "source": [
    "df.head()"
   ]
  },
  {
   "cell_type": "code",
   "execution_count": 32,
   "metadata": {},
   "outputs": [],
   "source": [
    "\n",
    "\n",
    "# correlation_df = df.drop(\"Region\",axis=1)\n",
    "\n",
    "correlation_df = df[['Discount','Sales_Amount','Marketing_Spend',\"Units_Sold\"]].copy()"
   ]
  },
  {
   "cell_type": "code",
   "execution_count": 33,
   "metadata": {},
   "outputs": [
    {
     "data": {
      "text/html": [
       "<div>\n",
       "<style scoped>\n",
       "    .dataframe tbody tr th:only-of-type {\n",
       "        vertical-align: middle;\n",
       "    }\n",
       "\n",
       "    .dataframe tbody tr th {\n",
       "        vertical-align: top;\n",
       "    }\n",
       "\n",
       "    .dataframe thead th {\n",
       "        text-align: right;\n",
       "    }\n",
       "</style>\n",
       "<table border=\"1\" class=\"dataframe\">\n",
       "  <thead>\n",
       "    <tr style=\"text-align: right;\">\n",
       "      <th></th>\n",
       "      <th>Discount</th>\n",
       "      <th>Sales_Amount</th>\n",
       "      <th>Marketing_Spend</th>\n",
       "      <th>Units_Sold</th>\n",
       "    </tr>\n",
       "  </thead>\n",
       "  <tbody>\n",
       "    <tr>\n",
       "      <th>0</th>\n",
       "      <td>0.98</td>\n",
       "      <td>497.95</td>\n",
       "      <td>116.07</td>\n",
       "      <td>17</td>\n",
       "    </tr>\n",
       "    <tr>\n",
       "      <th>1</th>\n",
       "      <td>3.28</td>\n",
       "      <td>271.31</td>\n",
       "      <td>96.66</td>\n",
       "      <td>34</td>\n",
       "    </tr>\n",
       "    <tr>\n",
       "      <th>2</th>\n",
       "      <td>5.83</td>\n",
       "      <td>563.73</td>\n",
       "      <td>51.71</td>\n",
       "      <td>26</td>\n",
       "    </tr>\n",
       "    <tr>\n",
       "      <th>3</th>\n",
       "      <td>7.74</td>\n",
       "      <td>560.06</td>\n",
       "      <td>125.73</td>\n",
       "      <td>36</td>\n",
       "    </tr>\n",
       "    <tr>\n",
       "      <th>4</th>\n",
       "      <td>7.02</td>\n",
       "      <td>532.63</td>\n",
       "      <td>153.55</td>\n",
       "      <td>16</td>\n",
       "    </tr>\n",
       "  </tbody>\n",
       "</table>\n",
       "</div>"
      ],
      "text/plain": [
       "   Discount  Sales_Amount  Marketing_Spend  Units_Sold\n",
       "0      0.98        497.95           116.07          17\n",
       "1      3.28        271.31            96.66          34\n",
       "2      5.83        563.73            51.71          26\n",
       "3      7.74        560.06           125.73          36\n",
       "4      7.02        532.63           153.55          16"
      ]
     },
     "execution_count": 33,
     "metadata": {},
     "output_type": "execute_result"
    }
   ],
   "source": [
    "correlation_df.head()"
   ]
  },
  {
   "cell_type": "code",
   "execution_count": 34,
   "metadata": {},
   "outputs": [
    {
     "data": {
      "image/png": "[encoded data removed]",
      "text/plain": [
       "<Figure size 640x480 with 2 Axes>"
      ]
     },
     "metadata": {},
     "output_type": "display_data"
    }
   ],
   "source": [
    "sns.heatmap(correlation_df.corr(),annot=True)\n",
    "plt.show()"
   ]
  },
  {
   "cell_type": "code",
   "execution_count": 35,
   "metadata": {},
   "outputs": [
    {
     "data": {
      "text/plain": [
       "Text(0.5, 1.0, 'Dicount vs Sales_Amount')"
      ]
     },
     "execution_count": 35,
     "metadata": {},
     "output_type": "execute_result"
    },
    {
     "data": {
      "image/png": "[encoded data removed]",
      "text/plain": [
       "<Figure size 640x480 with 1 Axes>"
      ]
     },
     "metadata": {},
     "output_type": "display_data"
    }
   ],
   "source": [
    "sns.scatterplot(data=df,x='Discount_Percentage',y='Sales_Amount',hue='Product_Category')\n",
    "plt.title(\"Dicount vs Sales_Amount\")"
   ]
  },
  {
   "cell_type": "code",
   "execution_count": 36,
   "metadata": {},
   "outputs": [
    {
     "data": {
      "text/plain": [
       "Text(0.5, 1.0, 'Product_Category vs Sales_Amount')"
      ]
     },
     "execution_count": 36,
     "metadata": {},
     "output_type": "execute_result"
    },
    {
     "data": {
      "image/png": "[encoded data removed]",
      "text/plain": [
       "<Figure size 640x480 with 1 Axes>"
      ]
     },
     "metadata": {},
     "output_type": "display_data"
    }
   ],
   "source": [
    "sns.scatterplot(data=df,x=\"Product_Category\",y='Discount_Percentage',hue='Product_Category')\n",
    "plt.title(\"Product_Category vs Sales_Amount\")"
   ]
  },
  {
   "cell_type": "code",
   "execution_count": 37,
   "metadata": {},
   "outputs": [
    {
     "data": {
      "text/html": [
       "<div>\n",
       "<style scoped>\n",
       "    .dataframe tbody tr th:only-of-type {\n",
       "        vertical-align: middle;\n",
       "    }\n",
       "\n",
       "    .dataframe tbody tr th {\n",
       "        vertical-align: top;\n",
       "    }\n",
       "\n",
       "    .dataframe thead th {\n",
       "        text-align: right;\n",
       "    }\n",
       "</style>\n",
       "<table border=\"1\" class=\"dataframe\">\n",
       "  <thead>\n",
       "    <tr style=\"text-align: right;\">\n",
       "      <th></th>\n",
       "      <th>Date</th>\n",
       "      <th>Product_Category</th>\n",
       "      <th>Region</th>\n",
       "      <th>Sales_Amount</th>\n",
       "      <th>Units_Sold</th>\n",
       "      <th>Discount</th>\n",
       "      <th>Marketing_Spend</th>\n",
       "      <th>Year</th>\n",
       "      <th>month</th>\n",
       "      <th>day_of_week</th>\n",
       "      <th>Price_per_Unit</th>\n",
       "      <th>Discount_Percentage</th>\n",
       "    </tr>\n",
       "  </thead>\n",
       "  <tbody>\n",
       "    <tr>\n",
       "      <th>0</th>\n",
       "      <td>2023-01-01</td>\n",
       "      <td>Electronics</td>\n",
       "      <td>North</td>\n",
       "      <td>497.95</td>\n",
       "      <td>17</td>\n",
       "      <td>0.98</td>\n",
       "      <td>116.07</td>\n",
       "      <td>2023</td>\n",
       "      <td>1</td>\n",
       "      <td>6</td>\n",
       "      <td>29.291176</td>\n",
       "      <td>0.196807</td>\n",
       "    </tr>\n",
       "    <tr>\n",
       "      <th>1</th>\n",
       "      <td>2023-01-02</td>\n",
       "      <td>Clothing</td>\n",
       "      <td>South</td>\n",
       "      <td>271.31</td>\n",
       "      <td>34</td>\n",
       "      <td>3.28</td>\n",
       "      <td>96.66</td>\n",
       "      <td>2023</td>\n",
       "      <td>1</td>\n",
       "      <td>0</td>\n",
       "      <td>7.979706</td>\n",
       "      <td>1.208949</td>\n",
       "    </tr>\n",
       "    <tr>\n",
       "      <th>2</th>\n",
       "      <td>2023-01-03</td>\n",
       "      <td>Groceries</td>\n",
       "      <td>East</td>\n",
       "      <td>563.73</td>\n",
       "      <td>26</td>\n",
       "      <td>5.83</td>\n",
       "      <td>51.71</td>\n",
       "      <td>2023</td>\n",
       "      <td>1</td>\n",
       "      <td>1</td>\n",
       "      <td>21.681923</td>\n",
       "      <td>1.034183</td>\n",
       "    </tr>\n",
       "    <tr>\n",
       "      <th>3</th>\n",
       "      <td>2023-01-04</td>\n",
       "      <td>Home Decor</td>\n",
       "      <td>West</td>\n",
       "      <td>560.06</td>\n",
       "      <td>36</td>\n",
       "      <td>7.74</td>\n",
       "      <td>125.73</td>\n",
       "      <td>2023</td>\n",
       "      <td>1</td>\n",
       "      <td>2</td>\n",
       "      <td>15.557222</td>\n",
       "      <td>1.381995</td>\n",
       "    </tr>\n",
       "    <tr>\n",
       "      <th>4</th>\n",
       "      <td>2023-01-05</td>\n",
       "      <td>Electronics</td>\n",
       "      <td>North</td>\n",
       "      <td>532.63</td>\n",
       "      <td>16</td>\n",
       "      <td>7.02</td>\n",
       "      <td>153.55</td>\n",
       "      <td>2023</td>\n",
       "      <td>1</td>\n",
       "      <td>3</td>\n",
       "      <td>33.289375</td>\n",
       "      <td>1.317988</td>\n",
       "    </tr>\n",
       "  </tbody>\n",
       "</table>\n",
       "</div>"
      ],
      "text/plain": [
       "        Date Product_Category Region  Sales_Amount  Units_Sold  Discount  \\\n",
       "0 2023-01-01      Electronics  North        497.95          17      0.98   \n",
       "1 2023-01-02         Clothing  South        271.31          34      3.28   \n",
       "2 2023-01-03        Groceries   East        563.73          26      5.83   \n",
       "3 2023-01-04       Home Decor   West        560.06          36      7.74   \n",
       "4 2023-01-05      Electronics  North        532.63          16      7.02   \n",
       "\n",
       "   Marketing_Spend  Year  month  day_of_week  Price_per_Unit  \\\n",
       "0           116.07  2023      1            6       29.291176   \n",
       "1            96.66  2023      1            0        7.979706   \n",
       "2            51.71  2023      1            1       21.681923   \n",
       "3           125.73  2023      1            2       15.557222   \n",
       "4           153.55  2023      1            3       33.289375   \n",
       "\n",
       "   Discount_Percentage  \n",
       "0             0.196807  \n",
       "1             1.208949  \n",
       "2             1.034183  \n",
       "3             1.381995  \n",
       "4             1.317988  "
      ]
     },
     "execution_count": 37,
     "metadata": {},
     "output_type": "execute_result"
    }
   ],
   "source": [
    "df.head()"
   ]
  },
  {
   "cell_type": "code",
   "execution_count": 38,
   "metadata": {},
   "outputs": [
    {
     "data": {
      "text/html": [
       "<div>\n",
       "<style scoped>\n",
       "    .dataframe tbody tr th:only-of-type {\n",
       "        vertical-align: middle;\n",
       "    }\n",
       "\n",
       "    .dataframe tbody tr th {\n",
       "        vertical-align: top;\n",
       "    }\n",
       "\n",
       "    .dataframe thead th {\n",
       "        text-align: right;\n",
       "    }\n",
       "</style>\n",
       "<table border=\"1\" class=\"dataframe\">\n",
       "  <thead>\n",
       "    <tr style=\"text-align: right;\">\n",
       "      <th></th>\n",
       "      <th>Product_Category</th>\n",
       "      <th>max_discount</th>\n",
       "    </tr>\n",
       "  </thead>\n",
       "  <tbody>\n",
       "    <tr>\n",
       "      <th>0</th>\n",
       "      <td>Clothing</td>\n",
       "      <td>15.688919</td>\n",
       "    </tr>\n",
       "    <tr>\n",
       "      <th>1</th>\n",
       "      <td>Electronics</td>\n",
       "      <td>3.885218</td>\n",
       "    </tr>\n",
       "    <tr>\n",
       "      <th>2</th>\n",
       "      <td>Groceries</td>\n",
       "      <td>2.820073</td>\n",
       "    </tr>\n",
       "    <tr>\n",
       "      <th>3</th>\n",
       "      <td>Home Decor</td>\n",
       "      <td>3.532631</td>\n",
       "    </tr>\n",
       "  </tbody>\n",
       "</table>\n",
       "</div>"
      ],
      "text/plain": [
       "  Product_Category  max_discount\n",
       "0         Clothing     15.688919\n",
       "1      Electronics      3.885218\n",
       "2        Groceries      2.820073\n",
       "3       Home Decor      3.532631"
      ]
     },
     "execution_count": 38,
     "metadata": {},
     "output_type": "execute_result"
    }
   ],
   "source": [
    "discount_percentage_df = df.groupby(\n",
    "    by='Product_Category',as_index=False\n",
    ").agg(\n",
    "    max_discount = (\"Discount_Percentage\",\"max\")\n",
    ")\n",
    "\n",
    "discount_percentage_df"
   ]
  },
  {
   "cell_type": "code",
   "execution_count": 39,
   "metadata": {},
   "outputs": [
    {
     "data": {
      "image/png": "[encoded data removed]",
      "text/plain": [
       "<Figure size 640x480 with 1 Axes>"
      ]
     },
     "metadata": {},
     "output_type": "display_data"
    }
   ],
   "source": [
    "plot = sns.barplot(data=discount_percentage_df,x='Product_Category',y='max_discount',hue='Product_Category')\n",
    "for i in plot.containers:\n",
    "    plot.bar_label(i)"
   ]
  },
  {
   "cell_type": "code",
   "execution_count": 40,
   "metadata": {},
   "outputs": [
    {
     "data": {
      "image/png": "[encoded data removed]",
      "text/plain": [
       "<Figure size 640x480 with 1 Axes>"
      ]
     },
     "metadata": {},
     "output_type": "display_data"
    }
   ],
   "source": [
    "sns.boxplot(data=df,x='Product_Category',y='Discount_Percentage')\n",
    "plt.show()"
   ]
  },
  {
   "cell_type": "code",
   "execution_count": 41,
   "metadata": {},
   "outputs": [
    {
     "data": {
      "text/plain": [
       "<Axes: xlabel='Marketing_Spend', ylabel='Sales_Amount'>"
      ]
     },
     "execution_count": 41,
     "metadata": {},
     "output_type": "execute_result"
    },
    {
     "data": {
      "image/png": "[encoded data removed]",
      "text/plain": [
       "<Figure size 640x480 with 1 Axes>"
      ]
     },
     "metadata": {},
     "output_type": "display_data"
    }
   ],
   "source": [
    "sns.regplot(data=df,x='Marketing_Spend',y='Sales_Amount')"
   ]
  },
  {
   "cell_type": "code",
   "execution_count": 42,
   "metadata": {},
   "outputs": [
    {
     "data": {
      "image/png": "[encoded data removed]",
      "text/plain": [
       "<Figure size 640x480 with 1 Axes>"
      ]
     },
     "metadata": {},
     "output_type": "display_data"
    }
   ],
   "source": [
    "sns.scatterplot(data=df,x='Marketing_Spend',y='Sales_Amount',hue='Product_Category')\n",
    "plt.show()"
   ]
  },
  {
   "cell_type": "code",
   "execution_count": 43,
   "metadata": {},
   "outputs": [
    {
     "data": {
      "text/html": [
       "<div>\n",
       "<style scoped>\n",
       "    .dataframe tbody tr th:only-of-type {\n",
       "        vertical-align: middle;\n",
       "    }\n",
       "\n",
       "    .dataframe tbody tr th {\n",
       "        vertical-align: top;\n",
       "    }\n",
       "\n",
       "    .dataframe thead th {\n",
       "        text-align: right;\n",
       "    }\n",
       "</style>\n",
       "<table border=\"1\" class=\"dataframe\">\n",
       "  <thead>\n",
       "    <tr style=\"text-align: right;\">\n",
       "      <th></th>\n",
       "      <th>Date</th>\n",
       "      <th>Product_Category</th>\n",
       "      <th>Region</th>\n",
       "      <th>Sales_Amount</th>\n",
       "      <th>Units_Sold</th>\n",
       "      <th>Discount</th>\n",
       "      <th>Marketing_Spend</th>\n",
       "      <th>Year</th>\n",
       "      <th>month</th>\n",
       "      <th>day_of_week</th>\n",
       "      <th>Price_per_Unit</th>\n",
       "      <th>Discount_Percentage</th>\n",
       "      <th>Marketing_Efficiency</th>\n",
       "    </tr>\n",
       "  </thead>\n",
       "  <tbody>\n",
       "    <tr>\n",
       "      <th>0</th>\n",
       "      <td>2023-01-01</td>\n",
       "      <td>Electronics</td>\n",
       "      <td>North</td>\n",
       "      <td>497.95</td>\n",
       "      <td>17</td>\n",
       "      <td>0.98</td>\n",
       "      <td>116.07</td>\n",
       "      <td>2023</td>\n",
       "      <td>1</td>\n",
       "      <td>6</td>\n",
       "      <td>29.291176</td>\n",
       "      <td>0.196807</td>\n",
       "      <td>4.290084</td>\n",
       "    </tr>\n",
       "    <tr>\n",
       "      <th>1</th>\n",
       "      <td>2023-01-02</td>\n",
       "      <td>Clothing</td>\n",
       "      <td>South</td>\n",
       "      <td>271.31</td>\n",
       "      <td>34</td>\n",
       "      <td>3.28</td>\n",
       "      <td>96.66</td>\n",
       "      <td>2023</td>\n",
       "      <td>1</td>\n",
       "      <td>0</td>\n",
       "      <td>7.979706</td>\n",
       "      <td>1.208949</td>\n",
       "      <td>2.806849</td>\n",
       "    </tr>\n",
       "    <tr>\n",
       "      <th>2</th>\n",
       "      <td>2023-01-03</td>\n",
       "      <td>Groceries</td>\n",
       "      <td>East</td>\n",
       "      <td>563.73</td>\n",
       "      <td>26</td>\n",
       "      <td>5.83</td>\n",
       "      <td>51.71</td>\n",
       "      <td>2023</td>\n",
       "      <td>1</td>\n",
       "      <td>1</td>\n",
       "      <td>21.681923</td>\n",
       "      <td>1.034183</td>\n",
       "      <td>10.901760</td>\n",
       "    </tr>\n",
       "    <tr>\n",
       "      <th>3</th>\n",
       "      <td>2023-01-04</td>\n",
       "      <td>Home Decor</td>\n",
       "      <td>West</td>\n",
       "      <td>560.06</td>\n",
       "      <td>36</td>\n",
       "      <td>7.74</td>\n",
       "      <td>125.73</td>\n",
       "      <td>2023</td>\n",
       "      <td>1</td>\n",
       "      <td>2</td>\n",
       "      <td>15.557222</td>\n",
       "      <td>1.381995</td>\n",
       "      <td>4.454466</td>\n",
       "    </tr>\n",
       "    <tr>\n",
       "      <th>4</th>\n",
       "      <td>2023-01-05</td>\n",
       "      <td>Electronics</td>\n",
       "      <td>North</td>\n",
       "      <td>532.63</td>\n",
       "      <td>16</td>\n",
       "      <td>7.02</td>\n",
       "      <td>153.55</td>\n",
       "      <td>2023</td>\n",
       "      <td>1</td>\n",
       "      <td>3</td>\n",
       "      <td>33.289375</td>\n",
       "      <td>1.317988</td>\n",
       "      <td>3.468772</td>\n",
       "    </tr>\n",
       "  </tbody>\n",
       "</table>\n",
       "</div>"
      ],
      "text/plain": [
       "        Date Product_Category Region  Sales_Amount  Units_Sold  Discount  \\\n",
       "0 2023-01-01      Electronics  North        497.95          17      0.98   \n",
       "1 2023-01-02         Clothing  South        271.31          34      3.28   \n",
       "2 2023-01-03        Groceries   East        563.73          26      5.83   \n",
       "3 2023-01-04       Home Decor   West        560.06          36      7.74   \n",
       "4 2023-01-05      Electronics  North        532.63          16      7.02   \n",
       "\n",
       "   Marketing_Spend  Year  month  day_of_week  Price_per_Unit  \\\n",
       "0           116.07  2023      1            6       29.291176   \n",
       "1            96.66  2023      1            0        7.979706   \n",
       "2            51.71  2023      1            1       21.681923   \n",
       "3           125.73  2023      1            2       15.557222   \n",
       "4           153.55  2023      1            3       33.289375   \n",
       "\n",
       "   Discount_Percentage  Marketing_Efficiency  \n",
       "0             0.196807              4.290084  \n",
       "1             1.208949              2.806849  \n",
       "2             1.034183             10.901760  \n",
       "3             1.381995              4.454466  \n",
       "4             1.317988              3.468772  "
      ]
     },
     "execution_count": 43,
     "metadata": {},
     "output_type": "execute_result"
    }
   ],
   "source": [
    "df['Marketing_Efficiency'] = df['Sales_Amount'] / df['Marketing_Spend']\n",
    "df.head()"
   ]
  },
  {
   "cell_type": "code",
   "execution_count": 44,
   "metadata": {},
   "outputs": [
    {
     "data": {
      "text/html": [
       "<div>\n",
       "<style scoped>\n",
       "    .dataframe tbody tr th:only-of-type {\n",
       "        vertical-align: middle;\n",
       "    }\n",
       "\n",
       "    .dataframe tbody tr th {\n",
       "        vertical-align: top;\n",
       "    }\n",
       "\n",
       "    .dataframe thead th {\n",
       "        text-align: right;\n",
       "    }\n",
       "</style>\n",
       "<table border=\"1\" class=\"dataframe\">\n",
       "  <thead>\n",
       "    <tr style=\"text-align: right;\">\n",
       "      <th></th>\n",
       "      <th>Region</th>\n",
       "      <th>Product_Category</th>\n",
       "      <th>marketing_efficiency</th>\n",
       "    </tr>\n",
       "  </thead>\n",
       "  <tbody>\n",
       "    <tr>\n",
       "      <th>0</th>\n",
       "      <td>East</td>\n",
       "      <td>Groceries</td>\n",
       "      <td>8.391603</td>\n",
       "    </tr>\n",
       "    <tr>\n",
       "      <th>1</th>\n",
       "      <td>North</td>\n",
       "      <td>Electronics</td>\n",
       "      <td>7.722659</td>\n",
       "    </tr>\n",
       "    <tr>\n",
       "      <th>2</th>\n",
       "      <td>South</td>\n",
       "      <td>Clothing</td>\n",
       "      <td>4.891737</td>\n",
       "    </tr>\n",
       "    <tr>\n",
       "      <th>3</th>\n",
       "      <td>West</td>\n",
       "      <td>Home Decor</td>\n",
       "      <td>15.792202</td>\n",
       "    </tr>\n",
       "  </tbody>\n",
       "</table>\n",
       "</div>"
      ],
      "text/plain": [
       "  Region Product_Category  marketing_efficiency\n",
       "0   East        Groceries              8.391603\n",
       "1  North      Electronics              7.722659\n",
       "2  South         Clothing              4.891737\n",
       "3   West       Home Decor             15.792202"
      ]
     },
     "execution_count": 44,
     "metadata": {},
     "output_type": "execute_result"
    }
   ],
   "source": [
    "regional_marketing_df = df.groupby(\n",
    "    by=['Region','Product_Category'],as_index=False\n",
    ").agg(\n",
    "    marketing_efficiency = (\"Marketing_Efficiency\",\"mean\")\n",
    ")\n",
    "\n",
    "regional_marketing_df"
   ]
  },
  {
   "cell_type": "code",
   "execution_count": 45,
   "metadata": {},
   "outputs": [
    {
     "data": {
      "text/html": [
       "<div>\n",
       "<style scoped>\n",
       "    .dataframe tbody tr th:only-of-type {\n",
       "        vertical-align: middle;\n",
       "    }\n",
       "\n",
       "    .dataframe tbody tr th {\n",
       "        vertical-align: top;\n",
       "    }\n",
       "\n",
       "    .dataframe thead th {\n",
       "        text-align: right;\n",
       "    }\n",
       "</style>\n",
       "<table border=\"1\" class=\"dataframe\">\n",
       "  <thead>\n",
       "    <tr style=\"text-align: right;\">\n",
       "      <th></th>\n",
       "      <th>Units_Sold</th>\n",
       "      <th>Discount</th>\n",
       "      <th>Marketing_Spend</th>\n",
       "      <th>Price_per_Unit</th>\n",
       "      <th>Discount_Percentage</th>\n",
       "      <th>Marketing_Efficiency</th>\n",
       "      <th>Sales_Amount</th>\n",
       "    </tr>\n",
       "  </thead>\n",
       "  <tbody>\n",
       "    <tr>\n",
       "      <th>0</th>\n",
       "      <td>17</td>\n",
       "      <td>0.98</td>\n",
       "      <td>116.07</td>\n",
       "      <td>29.291176</td>\n",
       "      <td>0.196807</td>\n",
       "      <td>4.290084</td>\n",
       "      <td>497.95</td>\n",
       "    </tr>\n",
       "    <tr>\n",
       "      <th>1</th>\n",
       "      <td>34</td>\n",
       "      <td>3.28</td>\n",
       "      <td>96.66</td>\n",
       "      <td>7.979706</td>\n",
       "      <td>1.208949</td>\n",
       "      <td>2.806849</td>\n",
       "      <td>271.31</td>\n",
       "    </tr>\n",
       "    <tr>\n",
       "      <th>2</th>\n",
       "      <td>26</td>\n",
       "      <td>5.83</td>\n",
       "      <td>51.71</td>\n",
       "      <td>21.681923</td>\n",
       "      <td>1.034183</td>\n",
       "      <td>10.901760</td>\n",
       "      <td>563.73</td>\n",
       "    </tr>\n",
       "    <tr>\n",
       "      <th>3</th>\n",
       "      <td>36</td>\n",
       "      <td>7.74</td>\n",
       "      <td>125.73</td>\n",
       "      <td>15.557222</td>\n",
       "      <td>1.381995</td>\n",
       "      <td>4.454466</td>\n",
       "      <td>560.06</td>\n",
       "    </tr>\n",
       "    <tr>\n",
       "      <th>4</th>\n",
       "      <td>16</td>\n",
       "      <td>7.02</td>\n",
       "      <td>153.55</td>\n",
       "      <td>33.289375</td>\n",
       "      <td>1.317988</td>\n",
       "      <td>3.468772</td>\n",
       "      <td>532.63</td>\n",
       "    </tr>\n",
       "  </tbody>\n",
       "</table>\n",
       "</div>"
      ],
      "text/plain": [
       "   Units_Sold  Discount  Marketing_Spend  Price_per_Unit  Discount_Percentage  \\\n",
       "0          17      0.98           116.07       29.291176             0.196807   \n",
       "1          34      3.28            96.66        7.979706             1.208949   \n",
       "2          26      5.83            51.71       21.681923             1.034183   \n",
       "3          36      7.74           125.73       15.557222             1.381995   \n",
       "4          16      7.02           153.55       33.289375             1.317988   \n",
       "\n",
       "   Marketing_Efficiency  Sales_Amount  \n",
       "0              4.290084        497.95  \n",
       "1              2.806849        271.31  \n",
       "2             10.901760        563.73  \n",
       "3              4.454466        560.06  \n",
       "4              3.468772        532.63  "
      ]
     },
     "execution_count": 45,
     "metadata": {},
     "output_type": "execute_result"
    }
   ],
   "source": [
    "scalar_df = df[['Units_Sold','Discount','Marketing_Spend','Price_per_Unit','Discount_Percentage','Marketing_Efficiency','Sales_Amount']].copy()\n",
    "scalar_df.head()"
   ]
  },
  {
   "cell_type": "code",
   "execution_count": 46,
   "metadata": {},
   "outputs": [
    {
     "name": "stdout",
     "output_type": "stream",
     "text": [
      "Units_Sold              0\n",
      "Discount                0\n",
      "Marketing_Spend         0\n",
      "Price_per_Unit          0\n",
      "Discount_Percentage     0\n",
      "Marketing_Efficiency    0\n",
      "Sales_Amount            0\n",
      "dtype: int64\n",
      "Units_Sold              0\n",
      "Discount                0\n",
      "Marketing_Spend         0\n",
      "Price_per_Unit          1\n",
      "Discount_Percentage     0\n",
      "Marketing_Efficiency    0\n",
      "Sales_Amount            0\n",
      "dtype: int64\n"
     ]
    }
   ],
   "source": [
    "import pandas as pd\n",
    "import numpy as np\n",
    "from sklearn.preprocessing import StandardScaler\n",
    "\n",
    "print(scalar_df.isnull().sum())\n",
    "\n",
    "print(np.isinf(scalar_df).sum())\n",
    "\n",
    "scalar_df.replace([np.inf, -np.inf], np.nan, inplace=True)\n",
    "\n",
    "scalar_df.dropna(inplace=True,axis=0)\n",
    "\n"
   ]
  },
  {
   "cell_type": "code",
   "execution_count": 47,
   "metadata": {},
   "outputs": [
    {
     "data": {
      "text/plain": [
       "Units_Sold              0\n",
       "Discount                0\n",
       "Marketing_Spend         0\n",
       "Price_per_Unit          0\n",
       "Discount_Percentage     0\n",
       "Marketing_Efficiency    0\n",
       "Sales_Amount            0\n",
       "dtype: int64"
      ]
     },
     "execution_count": 47,
     "metadata": {},
     "output_type": "execute_result"
    }
   ],
   "source": [
    "np.isinf(scalar_df).sum()"
   ]
  },
  {
   "cell_type": "code",
   "execution_count": 48,
   "metadata": {},
   "outputs": [
    {
     "data": {
      "text/plain": [
       "Units_Sold              0\n",
       "Discount                0\n",
       "Marketing_Spend         0\n",
       "Price_per_Unit          0\n",
       "Discount_Percentage     0\n",
       "Marketing_Efficiency    0\n",
       "Sales_Amount            0\n",
       "dtype: int64"
      ]
     },
     "execution_count": 48,
     "metadata": {},
     "output_type": "execute_result"
    }
   ],
   "source": [
    "scalar_df.isnull().sum()"
   ]
  },
  {
   "cell_type": "code",
   "execution_count": 49,
   "metadata": {},
   "outputs": [
    {
     "data": {
      "text/plain": [
       "(99, 7)"
      ]
     },
     "execution_count": 49,
     "metadata": {},
     "output_type": "execute_result"
    }
   ],
   "source": [
    "scalar_df.shape"
   ]
  },
  {
   "cell_type": "code",
   "execution_count": 50,
   "metadata": {},
   "outputs": [
    {
     "data": {
      "text/plain": [
       "(99,)"
      ]
     },
     "execution_count": 50,
     "metadata": {},
     "output_type": "execute_result"
    }
   ],
   "source": [
    "y = scalar_df['Sales_Amount'].copy()\n",
    "y.shape"
   ]
  },
  {
   "cell_type": "code",
   "execution_count": 51,
   "metadata": {},
   "outputs": [
    {
     "name": "stdout",
     "output_type": "stream",
     "text": [
      "Units_Sold shape: (99,)\n",
      "Discount shape: (99,)\n",
      "Marketing_Spend shape: (99,)\n",
      "Price_per_Unit shape: (99,)\n",
      "Discount_Percentage shape: (99,)\n",
      "Marketing_Efficiency shape: (99,)\n",
      "Sales_Amount shape: (99,)\n"
     ]
    }
   ],
   "source": [
    "columns = scalar_df.columns\n",
    "for col in columns:\n",
    "    print(f\"{col} shape: {scalar_df[col].shape}\")"
   ]
  },
  {
   "cell_type": "code",
   "execution_count": 52,
   "metadata": {},
   "outputs": [],
   "source": [
    "scalar_df.drop('Sales_Amount',axis=1,inplace=True)"
   ]
  },
  {
   "cell_type": "code",
   "execution_count": 53,
   "metadata": {},
   "outputs": [
    {
     "data": {
      "text/html": [
       "<div>\n",
       "<style scoped>\n",
       "    .dataframe tbody tr th:only-of-type {\n",
       "        vertical-align: middle;\n",
       "    }\n",
       "\n",
       "    .dataframe tbody tr th {\n",
       "        vertical-align: top;\n",
       "    }\n",
       "\n",
       "    .dataframe thead th {\n",
       "        text-align: right;\n",
       "    }\n",
       "</style>\n",
       "<table border=\"1\" class=\"dataframe\">\n",
       "  <thead>\n",
       "    <tr style=\"text-align: right;\">\n",
       "      <th></th>\n",
       "      <th>Units_Sold</th>\n",
       "      <th>Discount</th>\n",
       "      <th>Marketing_Spend</th>\n",
       "      <th>Price_per_Unit</th>\n",
       "      <th>Discount_Percentage</th>\n",
       "      <th>Marketing_Efficiency</th>\n",
       "    </tr>\n",
       "  </thead>\n",
       "  <tbody>\n",
       "    <tr>\n",
       "      <th>0</th>\n",
       "      <td>17</td>\n",
       "      <td>0.98</td>\n",
       "      <td>116.07</td>\n",
       "      <td>29.291176</td>\n",
       "      <td>0.196807</td>\n",
       "      <td>4.290084</td>\n",
       "    </tr>\n",
       "    <tr>\n",
       "      <th>1</th>\n",
       "      <td>34</td>\n",
       "      <td>3.28</td>\n",
       "      <td>96.66</td>\n",
       "      <td>7.979706</td>\n",
       "      <td>1.208949</td>\n",
       "      <td>2.806849</td>\n",
       "    </tr>\n",
       "    <tr>\n",
       "      <th>2</th>\n",
       "      <td>26</td>\n",
       "      <td>5.83</td>\n",
       "      <td>51.71</td>\n",
       "      <td>21.681923</td>\n",
       "      <td>1.034183</td>\n",
       "      <td>10.901760</td>\n",
       "    </tr>\n",
       "    <tr>\n",
       "      <th>3</th>\n",
       "      <td>36</td>\n",
       "      <td>7.74</td>\n",
       "      <td>125.73</td>\n",
       "      <td>15.557222</td>\n",
       "      <td>1.381995</td>\n",
       "      <td>4.454466</td>\n",
       "    </tr>\n",
       "    <tr>\n",
       "      <th>4</th>\n",
       "      <td>16</td>\n",
       "      <td>7.02</td>\n",
       "      <td>153.55</td>\n",
       "      <td>33.289375</td>\n",
       "      <td>1.317988</td>\n",
       "      <td>3.468772</td>\n",
       "    </tr>\n",
       "  </tbody>\n",
       "</table>\n",
       "</div>"
      ],
      "text/plain": [
       "   Units_Sold  Discount  Marketing_Spend  Price_per_Unit  Discount_Percentage  \\\n",
       "0          17      0.98           116.07       29.291176             0.196807   \n",
       "1          34      3.28            96.66        7.979706             1.208949   \n",
       "2          26      5.83            51.71       21.681923             1.034183   \n",
       "3          36      7.74           125.73       15.557222             1.381995   \n",
       "4          16      7.02           153.55       33.289375             1.317988   \n",
       "\n",
       "   Marketing_Efficiency  \n",
       "0              4.290084  \n",
       "1              2.806849  \n",
       "2             10.901760  \n",
       "3              4.454466  \n",
       "4              3.468772  "
      ]
     },
     "execution_count": 53,
     "metadata": {},
     "output_type": "execute_result"
    }
   ],
   "source": [
    "scalar_df.head()"
   ]
  },
  {
   "cell_type": "code",
   "execution_count": 84,
   "metadata": {},
   "outputs": [],
   "source": [
    "scalar_df_scaled = scalar_df.copy()"
   ]
  },
  {
   "cell_type": "code",
   "execution_count": 85,
   "metadata": {},
   "outputs": [
    {
     "data": {
      "text/html": [
       "<div>\n",
       "<style scoped>\n",
       "    .dataframe tbody tr th:only-of-type {\n",
       "        vertical-align: middle;\n",
       "    }\n",
       "\n",
       "    .dataframe tbody tr th {\n",
       "        vertical-align: top;\n",
       "    }\n",
       "\n",
       "    .dataframe thead th {\n",
       "        text-align: right;\n",
       "    }\n",
       "</style>\n",
       "<table border=\"1\" class=\"dataframe\">\n",
       "  <thead>\n",
       "    <tr style=\"text-align: right;\">\n",
       "      <th></th>\n",
       "      <th>Units_Sold</th>\n",
       "      <th>Discount</th>\n",
       "      <th>Marketing_Spend</th>\n",
       "      <th>Price_per_Unit</th>\n",
       "      <th>Discount_Percentage</th>\n",
       "      <th>Marketing_Efficiency</th>\n",
       "    </tr>\n",
       "  </thead>\n",
       "  <tbody>\n",
       "    <tr>\n",
       "      <th>0</th>\n",
       "      <td>17</td>\n",
       "      <td>0.98</td>\n",
       "      <td>116.07</td>\n",
       "      <td>29.291176</td>\n",
       "      <td>0.196807</td>\n",
       "      <td>4.290084</td>\n",
       "    </tr>\n",
       "    <tr>\n",
       "      <th>1</th>\n",
       "      <td>34</td>\n",
       "      <td>3.28</td>\n",
       "      <td>96.66</td>\n",
       "      <td>7.979706</td>\n",
       "      <td>1.208949</td>\n",
       "      <td>2.806849</td>\n",
       "    </tr>\n",
       "    <tr>\n",
       "      <th>2</th>\n",
       "      <td>26</td>\n",
       "      <td>5.83</td>\n",
       "      <td>51.71</td>\n",
       "      <td>21.681923</td>\n",
       "      <td>1.034183</td>\n",
       "      <td>10.901760</td>\n",
       "    </tr>\n",
       "    <tr>\n",
       "      <th>3</th>\n",
       "      <td>36</td>\n",
       "      <td>7.74</td>\n",
       "      <td>125.73</td>\n",
       "      <td>15.557222</td>\n",
       "      <td>1.381995</td>\n",
       "      <td>4.454466</td>\n",
       "    </tr>\n",
       "    <tr>\n",
       "      <th>4</th>\n",
       "      <td>16</td>\n",
       "      <td>7.02</td>\n",
       "      <td>153.55</td>\n",
       "      <td>33.289375</td>\n",
       "      <td>1.317988</td>\n",
       "      <td>3.468772</td>\n",
       "    </tr>\n",
       "  </tbody>\n",
       "</table>\n",
       "</div>"
      ],
      "text/plain": [
       "   Units_Sold  Discount  Marketing_Spend  Price_per_Unit  Discount_Percentage  \\\n",
       "0          17      0.98           116.07       29.291176             0.196807   \n",
       "1          34      3.28            96.66        7.979706             1.208949   \n",
       "2          26      5.83            51.71       21.681923             1.034183   \n",
       "3          36      7.74           125.73       15.557222             1.381995   \n",
       "4          16      7.02           153.55       33.289375             1.317988   \n",
       "\n",
       "   Marketing_Efficiency  \n",
       "0              4.290084  \n",
       "1              2.806849  \n",
       "2             10.901760  \n",
       "3              4.454466  \n",
       "4              3.468772  "
      ]
     },
     "execution_count": 85,
     "metadata": {},
     "output_type": "execute_result"
    }
   ],
   "source": [
    "scalar_df_scaled.head()"
   ]
  },
  {
   "cell_type": "code",
   "execution_count": 86,
   "metadata": {},
   "outputs": [],
   "source": [
    "scalar_df_scaled['Product_Category']=df['Product_Category']\n",
    "scalar_df_scaled['Region']=df['Region']"
   ]
  },
  {
   "cell_type": "code",
   "execution_count": 87,
   "metadata": {},
   "outputs": [
    {
     "data": {
      "text/html": [
       "<div>\n",
       "<style scoped>\n",
       "    .dataframe tbody tr th:only-of-type {\n",
       "        vertical-align: middle;\n",
       "    }\n",
       "\n",
       "    .dataframe tbody tr th {\n",
       "        vertical-align: top;\n",
       "    }\n",
       "\n",
       "    .dataframe thead th {\n",
       "        text-align: right;\n",
       "    }\n",
       "</style>\n",
       "<table border=\"1\" class=\"dataframe\">\n",
       "  <thead>\n",
       "    <tr style=\"text-align: right;\">\n",
       "      <th></th>\n",
       "      <th>Units_Sold</th>\n",
       "      <th>Discount</th>\n",
       "      <th>Marketing_Spend</th>\n",
       "      <th>Price_per_Unit</th>\n",
       "      <th>Discount_Percentage</th>\n",
       "      <th>Marketing_Efficiency</th>\n",
       "      <th>Product_Category</th>\n",
       "      <th>Region</th>\n",
       "    </tr>\n",
       "  </thead>\n",
       "  <tbody>\n",
       "    <tr>\n",
       "      <th>0</th>\n",
       "      <td>17</td>\n",
       "      <td>0.98</td>\n",
       "      <td>116.07</td>\n",
       "      <td>29.291176</td>\n",
       "      <td>0.196807</td>\n",
       "      <td>4.290084</td>\n",
       "      <td>Electronics</td>\n",
       "      <td>North</td>\n",
       "    </tr>\n",
       "    <tr>\n",
       "      <th>1</th>\n",
       "      <td>34</td>\n",
       "      <td>3.28</td>\n",
       "      <td>96.66</td>\n",
       "      <td>7.979706</td>\n",
       "      <td>1.208949</td>\n",
       "      <td>2.806849</td>\n",
       "      <td>Clothing</td>\n",
       "      <td>South</td>\n",
       "    </tr>\n",
       "    <tr>\n",
       "      <th>2</th>\n",
       "      <td>26</td>\n",
       "      <td>5.83</td>\n",
       "      <td>51.71</td>\n",
       "      <td>21.681923</td>\n",
       "      <td>1.034183</td>\n",
       "      <td>10.901760</td>\n",
       "      <td>Groceries</td>\n",
       "      <td>East</td>\n",
       "    </tr>\n",
       "    <tr>\n",
       "      <th>3</th>\n",
       "      <td>36</td>\n",
       "      <td>7.74</td>\n",
       "      <td>125.73</td>\n",
       "      <td>15.557222</td>\n",
       "      <td>1.381995</td>\n",
       "      <td>4.454466</td>\n",
       "      <td>Home Decor</td>\n",
       "      <td>West</td>\n",
       "    </tr>\n",
       "    <tr>\n",
       "      <th>4</th>\n",
       "      <td>16</td>\n",
       "      <td>7.02</td>\n",
       "      <td>153.55</td>\n",
       "      <td>33.289375</td>\n",
       "      <td>1.317988</td>\n",
       "      <td>3.468772</td>\n",
       "      <td>Electronics</td>\n",
       "      <td>North</td>\n",
       "    </tr>\n",
       "  </tbody>\n",
       "</table>\n",
       "</div>"
      ],
      "text/plain": [
       "   Units_Sold  Discount  Marketing_Spend  Price_per_Unit  Discount_Percentage  \\\n",
       "0          17      0.98           116.07       29.291176             0.196807   \n",
       "1          34      3.28            96.66        7.979706             1.208949   \n",
       "2          26      5.83            51.71       21.681923             1.034183   \n",
       "3          36      7.74           125.73       15.557222             1.381995   \n",
       "4          16      7.02           153.55       33.289375             1.317988   \n",
       "\n",
       "   Marketing_Efficiency Product_Category Region  \n",
       "0              4.290084      Electronics  North  \n",
       "1              2.806849         Clothing  South  \n",
       "2             10.901760        Groceries   East  \n",
       "3              4.454466       Home Decor   West  \n",
       "4              3.468772      Electronics  North  "
      ]
     },
     "execution_count": 87,
     "metadata": {},
     "output_type": "execute_result"
    }
   ],
   "source": [
    "scalar_df_scaled.head()"
   ]
  },
  {
   "cell_type": "code",
   "execution_count": 88,
   "metadata": {},
   "outputs": [],
   "source": [
    "from sklearn.preprocessing import OneHotEncoder\n",
    "from sklearn.compose import ColumnTransformer\n",
    "\n",
    "encoder = ColumnTransformer([(\"encoder\",OneHotEncoder(),['Product_Category','Region'])],remainder='passthrough')\n",
    "\n",
    "new_df =  encoder.fit_transform(scalar_df_scaled)"
   ]
  },
  {
   "cell_type": "code",
   "execution_count": 89,
   "metadata": {},
   "outputs": [
    {
     "data": {
      "text/plain": [
       "array([[ 0.        ,  1.        ,  0.        , ..., 29.29117647,\n",
       "         0.19680691,  4.29008357],\n",
       "       [ 1.        ,  0.        ,  0.        , ...,  7.97970588,\n",
       "         1.20894917,  2.80684875],\n",
       "       [ 0.        ,  0.        ,  1.        , ..., 21.68192308,\n",
       "         1.03418303, 10.90175981],\n",
       "       ...,\n",
       "       [ 1.        ,  0.        ,  0.        , ..., 19.17071429,\n",
       "         1.03953202,  4.01210853],\n",
       "       [ 0.        ,  0.        ,  1.        , ..., 20.36625   ,\n",
       "         0.7569713 ,  8.68805546],\n",
       "       [ 0.        ,  0.        ,  0.        , ..., 33.0026087 ,\n",
       "         0.78781651,  9.21860578]])"
      ]
     },
     "execution_count": 89,
     "metadata": {},
     "output_type": "execute_result"
    }
   ],
   "source": [
    "new_df"
   ]
  },
  {
   "cell_type": "code",
   "execution_count": 91,
   "metadata": {},
   "outputs": [],
   "source": [
    "x = new_df"
   ]
  },
  {
   "cell_type": "code",
   "execution_count": 62,
   "metadata": {},
   "outputs": [
    {
     "data": {
      "text/plain": [
       "array([[ 0.        ,  1.        ,  0.        , ..., 29.29117647,\n",
       "         0.19680691,  4.29008357],\n",
       "       [ 1.        ,  0.        ,  0.        , ...,  7.97970588,\n",
       "         1.20894917,  2.80684875],\n",
       "       [ 0.        ,  0.        ,  1.        , ..., 21.68192308,\n",
       "         1.03418303, 10.90175981],\n",
       "       ...,\n",
       "       [ 1.        ,  0.        ,  0.        , ..., 19.17071429,\n",
       "         1.03953202,  4.01210853],\n",
       "       [ 0.        ,  0.        ,  1.        , ..., 20.36625   ,\n",
       "         0.7569713 ,  8.68805546],\n",
       "       [ 0.        ,  0.        ,  0.        , ..., 33.0026087 ,\n",
       "         0.78781651,  9.21860578]])"
      ]
     },
     "execution_count": 62,
     "metadata": {},
     "output_type": "execute_result"
    }
   ],
   "source": [
    "x"
   ]
  },
  {
   "cell_type": "code",
   "execution_count": 75,
   "metadata": {},
   "outputs": [],
   "source": [
    "y = y.reshape(-1,1)\n",
    "y = StandardScaler().fit_transform(y)"
   ]
  },
  {
   "cell_type": "code",
   "execution_count": 78,
   "metadata": {},
   "outputs": [
    {
     "data": {
      "text/plain": [
       "array([[-0.16428899],\n",
       "       [-1.35781316],\n",
       "       [ 0.18211949],\n",
       "       [ 0.16279266],\n",
       "       [ 0.01834169]])"
      ]
     },
     "execution_count": 78,
     "metadata": {},
     "output_type": "execute_result"
    }
   ],
   "source": [
    "y[:5]"
   ]
  },
  {
   "cell_type": "code",
   "execution_count": 76,
   "metadata": {},
   "outputs": [
    {
     "data": {
      "text/plain": [
       "((99, 14), (99, 1))"
      ]
     },
     "execution_count": 76,
     "metadata": {},
     "output_type": "execute_result"
    }
   ],
   "source": [
    "x.shape,y.shape"
   ]
  },
  {
   "cell_type": "code",
   "execution_count": 79,
   "metadata": {},
   "outputs": [
    {
     "name": "stdout",
     "output_type": "stream",
     "text": [
      "(99, 14) (79, 14) (20, 14)\n"
     ]
    }
   ],
   "source": [
    "# Splitting the data into training and testing data\n",
    "\n",
    "x_train,x_test,y_train,y_test = train_test_split(\n",
    "    x,y,test_size=0.2,random_state=42\n",
    ")\n",
    "print(x.shape,x_train.shape,x_test.shape)\n"
   ]
  },
  {
   "cell_type": "code",
   "execution_count": 92,
   "metadata": {},
   "outputs": [],
   "source": [
    "st = StandardScaler()\n",
    "\n",
    "x_train = st.fit_transform(x_train)\n",
    "x_test = st.transform(x_test)"
   ]
  },
  {
   "cell_type": "markdown",
   "metadata": {},
   "source": [
    "Model Building "
   ]
  },
  {
   "cell_type": "code",
   "execution_count": 93,
   "metadata": {},
   "outputs": [],
   "source": [
    "from sklearn.linear_model import LinearRegression\n",
    "from sklearn.ensemble import RandomForestRegressor\n",
    "from sklearn.svm import SVR\n",
    "\n"
   ]
  },
  {
   "cell_type": "code",
   "execution_count": 94,
   "metadata": {},
   "outputs": [
    {
     "name": "stderr",
     "output_type": "stream",
     "text": [
      "c:\\Users\\HP\\AppData\\Local\\Programs\\Python\\Python312\\Lib\\site-packages\\sklearn\\base.py:1389: DataConversionWarning: A column-vector y was passed when a 1d array was expected. Please change the shape of y to (n_samples,), for example using ravel().\n",
      "  return fit_method(estimator, *args, **kwargs)\n",
      "c:\\Users\\HP\\AppData\\Local\\Programs\\Python\\Python312\\Lib\\site-packages\\sklearn\\utils\\validation.py:1408: DataConversionWarning: A column-vector y was passed when a 1d array was expected. Please change the shape of y to (n_samples, ), for example using ravel().\n",
      "  y = column_or_1d(y, warn=True)\n"
     ]
    }
   ],
   "source": [
    "linear_model = LinearRegression().fit(x_train,y_train)\n",
    "random_forest_model = RandomForestRegressor().fit(x_train,y_train)\n",
    "svm_model = SVR().fit(x_train,y_train)"
   ]
  },
  {
   "cell_type": "code",
   "execution_count": 95,
   "metadata": {},
   "outputs": [],
   "source": [
    "linear_model_pred = linear_model.predict(x_test)\n",
    "random_forest_model_pred = random_forest_model.predict(x_test)\n",
    "svm_mode_pred=svm_model.predict(x_test)"
   ]
  },
  {
   "cell_type": "code",
   "execution_count": 96,
   "metadata": {},
   "outputs": [
    {
     "data": {
      "text/plain": [
       "array([[-0.4912489 ],\n",
       "       [-0.25737553],\n",
       "       [ 0.2626843 ],\n",
       "       [ 0.22893727],\n",
       "       [ 0.36624677],\n",
       "       [-0.15818723],\n",
       "       [-0.57370149],\n",
       "       [ 0.23975892],\n",
       "       [ 0.38414899],\n",
       "       [-0.09578792],\n",
       "       [-0.10222743],\n",
       "       [ 2.36594755],\n",
       "       [-0.96738228],\n",
       "       [ 0.16020405],\n",
       "       [-0.09659582],\n",
       "       [-0.24571123],\n",
       "       [ 3.31720333],\n",
       "       [-0.43275571],\n",
       "       [-0.15907431],\n",
       "       [ 0.63740722]])"
      ]
     },
     "execution_count": 96,
     "metadata": {},
     "output_type": "execute_result"
    }
   ],
   "source": [
    "linear_model_pred"
   ]
  },
  {
   "cell_type": "markdown",
   "metadata": {},
   "source": [
    "validation score on Test Data"
   ]
  },
  {
   "cell_type": "code",
   "execution_count": 103,
   "metadata": {},
   "outputs": [
    {
     "name": "stdout",
     "output_type": "stream",
     "text": [
      "linear_model_accuracy:  1.5846413429227633\n",
      "random_forest_model_accuracy:  0.43257521365620705\n",
      "svm_mode_accuracy:  1.068501455801536\n"
     ]
    }
   ],
   "source": [
    "from sklearn.metrics import mean_squared_error\n",
    "\n",
    "linear_model_MSE = mean_squared_error(y_test,linear_model_pred)\n",
    "random_forest_model_MSE = mean_squared_error(y_test,random_forest_model_pred)\n",
    "svm_mode_MSE = mean_squared_error(y_test,svm_mode_pred)\n",
    "\n",
    "print(\"linear_model_accuracy: \",linear_model_MSE  )\n",
    "print(\"random_forest_model_accuracy: \",random_forest_model_MSE )\n",
    "print(\"svm_mode_accuracy: \",svm_mode_MSE)"
   ]
  },
  {
   "cell_type": "code",
   "execution_count": 101,
   "metadata": {},
   "outputs": [
    {
     "name": "stdout",
     "output_type": "stream",
     "text": [
      "linear_model_MAE:  0.968075486456353\n",
      "random_forest_model_MAE:  0.5631852083433817\n",
      "svm_MAE: 0.8621543822355855\n"
     ]
    }
   ],
   "source": [
    "from sklearn.metrics import mean_absolute_error\n",
    "\n",
    "linear_model_MAE = mean_absolute_error(y_test,linear_model_pred)\n",
    "random_forest_model_MAE = mean_absolute_error(y_test,random_forest_model_pred)\n",
    "svm_MAE = mean_absolute_error(y_test,svm_mode_pred)\n",
    "\n",
    "print(\"linear_model_MAE: \",linear_model_MAE)\n",
    "print(\"random_forest_model_MAE: \",random_forest_model_MAE)\n",
    "print(\"svm_MAE:\" ,svm_MAE)"
   ]
  },
  {
   "cell_type": "code",
   "execution_count": 106,
   "metadata": {},
   "outputs": [
    {
     "name": "stdout",
     "output_type": "stream",
     "text": [
      "linear_model_r2:  -0.22410932670164074\n",
      "random_forest_model_r2:  0.6658427751481888\n",
      "svm_r2: 0.17460023147667403\n"
     ]
    }
   ],
   "source": [
    "from sklearn.metrics import r2_score\n",
    "\n",
    "linear_model_r2 = r2_score(y_test,linear_model_pred)\n",
    "random_forest_model_r2 = r2_score(y_test,random_forest_model_pred)\n",
    "svm_r2 = r2_score(y_test,svm_mode_pred)\n",
    "\n",
    "print(\"linear_model_r2: \",linear_model_r2)\n",
    "print(\"random_forest_model_r2: \",random_forest_model_r2)\n",
    "print(\"svm_r2:\" ,svm_r2)"
   ]
  },
  {
   "cell_type": "markdown",
   "metadata": {},
   "source": [
    "Validation score on Testing data"
   ]
  },
  {
   "cell_type": "code",
   "execution_count": 112,
   "metadata": {},
   "outputs": [
    {
     "name": "stderr",
     "output_type": "stream",
     "text": [
      "c:\\Users\\HP\\AppData\\Local\\Programs\\Python\\Python312\\Lib\\site-packages\\sklearn\\base.py:1389: DataConversionWarning: A column-vector y was passed when a 1d array was expected. Please change the shape of y to (n_samples,), for example using ravel().\n",
      "  return fit_method(estimator, *args, **kwargs)\n",
      "c:\\Users\\HP\\AppData\\Local\\Programs\\Python\\Python312\\Lib\\site-packages\\sklearn\\utils\\validation.py:1408: DataConversionWarning: A column-vector y was passed when a 1d array was expected. Please change the shape of y to (n_samples, ), for example using ravel().\n",
      "  y = column_or_1d(y, warn=True)\n"
     ]
    }
   ],
   "source": [
    "train_linear_model = LinearRegression().fit(x_train,y_train)\n",
    "train_random_forest_model = RandomForestRegressor().fit(x_train,y_train)\n",
    "train_svm_model = SVR().fit(x_train,y_train)"
   ]
  },
  {
   "cell_type": "code",
   "execution_count": 113,
   "metadata": {},
   "outputs": [],
   "source": [
    "train_linear_pred = train_linear_model.predict(x_train)\n",
    "train_random_forest_pred = train_random_forest_model.predict(x_train)\n",
    "train_svm_pred = train_svm_model.predict(x_train)"
   ]
  },
  {
   "cell_type": "code",
   "execution_count": 114,
   "metadata": {},
   "outputs": [
    {
     "name": "stdout",
     "output_type": "stream",
     "text": [
      "train_linear_model_accuracy:  0.4645058033438338\n",
      "train_random_forest_model_accuracy:  0.031418828393733375\n",
      "svm_mode_accuracy:  0.3566729050294686\n"
     ]
    }
   ],
   "source": [
    "train_linear_model_MSE = mean_squared_error(y_train,train_linear_pred)\n",
    "train_random_forest_model_MSE = mean_squared_error(y_train,train_random_forest_pred)\n",
    "train_svm_mode_MSE = mean_squared_error(y_train,train_svm_pred)\n",
    "\n",
    "print(\"train_linear_model_accuracy: \",train_linear_model_MSE  )\n",
    "print(\"train_random_forest_model_accuracy: \",train_random_forest_model_MSE )\n",
    "print(\"svm_mode_accuracy: \",train_svm_mode_MSE)"
   ]
  },
  {
   "cell_type": "code",
   "execution_count": 115,
   "metadata": {},
   "outputs": [
    {
     "name": "stdout",
     "output_type": "stream",
     "text": [
      "train_linear_model_accuracy:  0.5830511646067995\n",
      "train_random_forest_model_accuracy:  0.13777490924689226\n",
      "svm_mode_accuracy:  0.4559749156465851\n"
     ]
    }
   ],
   "source": [
    "train_linear_model_MAE = mean_absolute_error(y_train,train_linear_pred)\n",
    "train_random_forest_model_MAE = mean_absolute_error(y_train,train_random_forest_pred)\n",
    "train_svm_mode_MAE = mean_absolute_error(y_train,train_svm_pred)\n",
    "\n",
    "print(\"train_linear_model_accuracy: \",train_linear_model_MAE  )\n",
    "print(\"train_random_forest_model_accuracy: \",train_random_forest_model_MAE )\n",
    "print(\"svm_mode_accuracy: \",train_svm_mode_MAE)"
   ]
  },
  {
   "cell_type": "code",
   "execution_count": 116,
   "metadata": {},
   "outputs": [
    {
     "name": "stdout",
     "output_type": "stream",
     "text": [
      "train_linear_model_accuracy:  0.4977494820864333\n",
      "train_random_forest_model_accuracy:  0.9660281470771864\n",
      "svm_mode_accuracy:  0.6143446433021513\n"
     ]
    }
   ],
   "source": [
    "train_linear_model_r2 = r2_score(y_train,train_linear_pred)\n",
    "train_random_forest_model_r2 = r2_score(y_train,train_random_forest_pred)\n",
    "train_svm_mode_r2 = r2_score(y_train,train_svm_pred)\n",
    "\n",
    "print(\"train_linear_model_accuracy: \",train_linear_model_r2  )\n",
    "print(\"train_random_forest_model_accuracy: \",train_random_forest_model_r2 )\n",
    "print(\"svm_mode_accuracy: \",train_svm_mode_r2)"
   ]
  },
  {
   "cell_type": "code",
   "execution_count": 119,
   "metadata": {},
   "outputs": [
    {
     "name": "stdout",
     "output_type": "stream",
     "text": [
      "LinearRegression Model: \n",
      "Training score: 0.4977494820864333 , Testing score: -0.22410932670164074\n",
      "\n",
      "RandomForestRegressor Model: \n",
      "Training score: 0.9660281470771864 , Testing score: 0.6658427751481888\n",
      "\n",
      "SVR Model: \n",
      "Training score: 0.6143446433021513 , Testing score: 0.17460023147667403\n"
     ]
    }
   ],
   "source": [
    "print(\"LinearRegression Model R2 score: \")\n",
    "print(f\"Training score: { train_linear_model_r2} , Testing score: {linear_model_r2}\\n\")\n",
    "print(\"RandomForestRegressor Model R2 score: \")\n",
    "print(f\"Training score: { train_random_forest_model_r2} , Testing score: {random_forest_model_r2}\\n\")\n",
    "print(\"SVR Model R2 score: \")\n",
    "print(f\"Training score: { train_svm_mode_r2} , Testing score: {svm_r2}\")\n"
   ]
  },
  {
   "cell_type": "code",
   "execution_count": 120,
   "metadata": {},
   "outputs": [
    {
     "name": "stdout",
     "output_type": "stream",
     "text": [
      "LinearRegression Model MAE score: \n",
      "Training score: 0.5830511646067995 , Testing score: 0.968075486456353\n",
      "\n",
      "RandomForestRegressor Model MAE score: \n",
      "Training score: 0.13777490924689226 , Testing score: 0.5631852083433817\n",
      "\n",
      "SVR Model MAE score: \n",
      "Training score: 0.4559749156465851 , Testing score: 0.8621543822355855\n"
     ]
    }
   ],
   "source": [
    "print(\"LinearRegression Model MAE score: \")\n",
    "print(f\"Training score: { train_linear_model_MAE} , Testing score: {linear_model_MAE}\\n\")\n",
    "print(\"RandomForestRegressor Model MAE score: \")\n",
    "print(f\"Training score: { train_random_forest_model_MAE} , Testing score: {random_forest_model_MAE}\\n\")\n",
    "print(\"SVR Model MAE score: \")\n",
    "print(f\"Training score: { train_svm_mode_MAE} , Testing score: {svm_MAE}\")\n"
   ]
  },
  {
   "cell_type": "code",
   "execution_count": 121,
   "metadata": {},
   "outputs": [
    {
     "name": "stdout",
     "output_type": "stream",
     "text": [
      "LinearRegression Model MSE score: \n",
      "Training score: 0.4645058033438338 , Testing score: 1.5846413429227633\n",
      "\n",
      "RandomForestRegressor Model MSE score: \n",
      "Training score: 0.031418828393733375 , Testing score: 0.43257521365620705\n",
      "\n",
      "SVR Model MSE score: \n",
      "Training score: 0.3566729050294686 , Testing score: 1.068501455801536\n"
     ]
    }
   ],
   "source": [
    "print(\"LinearRegression Model MSE score: \")\n",
    "print(f\"Training score: { train_linear_model_MSE} , Testing score: {linear_model_MSE}\\n\")\n",
    "print(\"RandomForestRegressor Model MSE score: \")\n",
    "print(f\"Training score: { train_random_forest_model_MSE} , Testing score: {random_forest_model_MSE}\\n\")\n",
    "print(\"SVR Model MSE score: \")\n",
    "print(f\"Training score: { train_svm_mode_MSE} , Testing score: {svm_mode_MSE}\")"
   ]
  },
  {
   "cell_type": "markdown",
   "metadata": {},
   "source": [
    "The Both `MAE (Mean Absolute Error) `and` MSE (Mean Squared Error)` score for all three model's are higher in testing comparing to the Training. So there is chance of `Overfitting` in out model. To resolve this we can use either Lasso or Ridge techniques"
   ]
  },
  {
   "cell_type": "code",
   "execution_count": 123,
   "metadata": {},
   "outputs": [
    {
     "name": "stdout",
     "output_type": "stream",
     "text": [
      "R2 score: -0.002246969005327948\n",
      "MSE score: 1.2974347537930113\n",
      "MAE score: 0.8707044714318839\n"
     ]
    }
   ],
   "source": [
    "from sklearn.linear_model import Lasso,Ridge\n",
    "\n",
    "lasso = Lasso().fit(x_train,y_train)\n",
    "lasso_pred = lasso.predict(x_test)\n",
    "print(\"R2 score:\",r2_score(y_test,lasso_pred))\n",
    "print(\"MSE score:\",mean_squared_error(y_test,lasso_pred))\n",
    "print(\"MAE score:\",mean_absolute_error(y_test,lasso_pred))"
   ]
  },
  {
   "cell_type": "code",
   "execution_count": 124,
   "metadata": {},
   "outputs": [
    {
     "name": "stdout",
     "output_type": "stream",
     "text": [
      "R2 score: -0.21138169653435934\n",
      "MSE score: 1.5681650948290986\n",
      "MAE score: 0.9672912060522094\n"
     ]
    }
   ],
   "source": [
    "ridge = Ridge().fit(x_train,y_train)\n",
    "ridge_pred = ridge.predict(x_test)\n",
    "print(\"R2 score:\",r2_score(y_test,ridge_pred))\n",
    "print(\"MSE score:\",mean_squared_error(y_test,ridge_pred))\n",
    "print(\"MAE score:\",mean_absolute_error(y_test,ridge_pred))"
   ]
  },
  {
   "cell_type": "code",
   "execution_count": 129,
   "metadata": {},
   "outputs": [],
   "source": [
    "new_y = df['Sales_Amount'].copy()\n",
    "new_y = new_y.values\n",
    "new_y = new_y.reshape(-1,1)\n",
    "new_y = new_y.ravel()"
   ]
  },
  {
   "cell_type": "code",
   "execution_count": 136,
   "metadata": {},
   "outputs": [
    {
     "name": "stderr",
     "output_type": "stream",
     "text": [
      "c:\\Users\\HP\\AppData\\Local\\Programs\\Python\\Python312\\Lib\\site-packages\\sklearn\\base.py:1389: DataConversionWarning: A column-vector y was passed when a 1d array was expected. Please change the shape of y to (n_samples,), for example using ravel().\n",
      "  return fit_method(estimator, *args, **kwargs)\n",
      "c:\\Users\\HP\\AppData\\Local\\Programs\\Python\\Python312\\Lib\\site-packages\\sklearn\\base.py:1389: DataConversionWarning: A column-vector y was passed when a 1d array was expected. Please change the shape of y to (n_samples,), for example using ravel().\n",
      "  return fit_method(estimator, *args, **kwargs)\n",
      "c:\\Users\\HP\\AppData\\Local\\Programs\\Python\\Python312\\Lib\\site-packages\\sklearn\\base.py:1389: DataConversionWarning: A column-vector y was passed when a 1d array was expected. Please change the shape of y to (n_samples,), for example using ravel().\n",
      "  return fit_method(estimator, *args, **kwargs)\n",
      "c:\\Users\\HP\\AppData\\Local\\Programs\\Python\\Python312\\Lib\\site-packages\\sklearn\\base.py:1389: DataConversionWarning: A column-vector y was passed when a 1d array was expected. Please change the shape of y to (n_samples,), for example using ravel().\n",
      "  return fit_method(estimator, *args, **kwargs)\n",
      "c:\\Users\\HP\\AppData\\Local\\Programs\\Python\\Python312\\Lib\\site-packages\\sklearn\\base.py:1389: DataConversionWarning: A column-vector y was passed when a 1d array was expected. Please change the shape of y to (n_samples,), for example using ravel().\n",
      "  return fit_method(estimator, *args, **kwargs)\n",
      "c:\\Users\\HP\\AppData\\Local\\Programs\\Python\\Python312\\Lib\\site-packages\\sklearn\\utils\\validation.py:1408: DataConversionWarning: A column-vector y was passed when a 1d array was expected. Please change the shape of y to (n_samples, ), for example using ravel().\n",
      "  y = column_or_1d(y, warn=True)\n",
      "c:\\Users\\HP\\AppData\\Local\\Programs\\Python\\Python312\\Lib\\site-packages\\sklearn\\utils\\validation.py:1408: DataConversionWarning: A column-vector y was passed when a 1d array was expected. Please change the shape of y to (n_samples, ), for example using ravel().\n",
      "  y = column_or_1d(y, warn=True)\n",
      "c:\\Users\\HP\\AppData\\Local\\Programs\\Python\\Python312\\Lib\\site-packages\\sklearn\\utils\\validation.py:1408: DataConversionWarning: A column-vector y was passed when a 1d array was expected. Please change the shape of y to (n_samples, ), for example using ravel().\n",
      "  y = column_or_1d(y, warn=True)\n",
      "c:\\Users\\HP\\AppData\\Local\\Programs\\Python\\Python312\\Lib\\site-packages\\sklearn\\utils\\validation.py:1408: DataConversionWarning: A column-vector y was passed when a 1d array was expected. Please change the shape of y to (n_samples, ), for example using ravel().\n",
      "  y = column_or_1d(y, warn=True)\n",
      "c:\\Users\\HP\\AppData\\Local\\Programs\\Python\\Python312\\Lib\\site-packages\\sklearn\\utils\\validation.py:1408: DataConversionWarning: A column-vector y was passed when a 1d array was expected. Please change the shape of y to (n_samples, ), for example using ravel().\n",
      "  y = column_or_1d(y, warn=True)\n"
     ]
    }
   ],
   "source": [
    "from sklearn.model_selection import cross_val_score,GridSearchCV\n",
    "\n",
    "linear_cross_val_score = cross_val_score(LinearRegression(),x,y,cv=5)\n",
    "random_forest_cross_val_score = cross_val_score(RandomForestRegressor(),x,y,cv=5)\n",
    "svm_cross_val_score = cross_val_score(SVR(),x,y,cv=5)"
   ]
  },
  {
   "cell_type": "code",
   "execution_count": 131,
   "metadata": {},
   "outputs": [
    {
     "data": {
      "text/plain": [
       "array([ 0.34751458, -8.42059386,  0.33221059,  0.46595115, -5.00229249])"
      ]
     },
     "execution_count": 131,
     "metadata": {},
     "output_type": "execute_result"
    }
   ],
   "source": [
    "linear_cross_val_score"
   ]
  },
  {
   "cell_type": "code",
   "execution_count": 133,
   "metadata": {},
   "outputs": [
    {
     "data": {
      "text/plain": [
       "array([0.75720476, 0.74138717, 0.82514329, 0.77359162, 0.8118953 ])"
      ]
     },
     "execution_count": 133,
     "metadata": {},
     "output_type": "execute_result"
    }
   ],
   "source": [
    "random_forest_cross_val_score"
   ]
  },
  {
   "cell_type": "code",
   "execution_count": 134,
   "metadata": {},
   "outputs": [
    {
     "data": {
      "text/plain": [
       "array([0.44016313, 0.19418734, 0.07281133, 0.36768909, 0.20927327])"
      ]
     },
     "execution_count": 134,
     "metadata": {},
     "output_type": "execute_result"
    }
   ],
   "source": [
    "svm_cross_val_score"
   ]
  },
  {
   "cell_type": "markdown",
   "metadata": {},
   "source": [
    "#### Random Forest model have highest Score among the 3 model's with : 82.51%"
   ]
  }
 ],
 "metadata": {
  "kernelspec": {
   "display_name": "Python 3",
   "language": "python",
   "name": "python3"
  },
  "language_info": {
   "codemirror_mode": {
    "name": "ipython",
    "version": 3
   },
   "file_extension": ".py",
   "mimetype": "text/x-python",
   "name": "python",
   "nbconvert_exporter": "python",
   "pygments_lexer": "ipython3",
   "version": "3.12.6"
  }
 },
 "nbformat": 4,
 "nbformat_minor": 2
}
